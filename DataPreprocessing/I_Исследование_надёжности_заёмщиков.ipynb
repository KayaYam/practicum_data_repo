{
 "cells": [
  {
   "cell_type": "markdown",
   "metadata": {},
   "source": [
    "Оригинальный формат\n",
    "\n",
    "* children — количество детей в семье\n",
    "* days_employed — общий трудовой стаж в днях\n",
    "* <s>dob_years</s> age_years — возраст клиента в годах\n",
    "* education — уровень образования клиента\n",
    "* education_id — идентификатор уровня образования\n",
    "* family_status — семейное положение\n",
    "* family_status_id — идентификатор семейного положения\n",
    "* gender — пол клиента\n",
    "* income_type — тип занятости\n",
    "* debt — имел ли задолженность по возврату кредитов\n",
    "* <s>total_income</s> monthly_income — ежемесячный доход\n",
    "* purpose — цель получения кредита\n",
    "\n",
    "Созданные мной столбцы\n",
    "\n",
    "* purpose_object_id - id цели кредита (существительное)\n",
    "* purpose_action_id - id цели кредита (глагол)"
   ]
  },
  {
   "cell_type": "markdown",
   "metadata": {},
   "source": [
    "### Шаг 1. Откройте файл с данными и изучите общую информацию. "
   ]
  },
  {
   "cell_type": "code",
   "execution_count": 20,
   "metadata": {},
   "outputs": [
    {
     "name": "stdout",
     "output_type": "stream",
     "text": [
      "<class 'pandas.core.frame.DataFrame'>\n",
      "RangeIndex: 21525 entries, 0 to 21524\n",
      "Data columns (total 12 columns):\n",
      "children            21525 non-null int64\n",
      "days_employed       19351 non-null float64\n",
      "dob_years           21525 non-null int64\n",
      "education           21525 non-null object\n",
      "education_id        21525 non-null int64\n",
      "family_status       21525 non-null object\n",
      "family_status_id    21525 non-null int64\n",
      "gender              21525 non-null object\n",
      "income_type         21525 non-null object\n",
      "debt                21525 non-null int64\n",
      "total_income        19351 non-null float64\n",
      "purpose             21525 non-null object\n",
      "dtypes: float64(2), int64(5), object(5)\n",
      "memory usage: 2.0+ MB\n",
      "None\n"
     ]
    }
   ],
   "source": [
    "import pandas as pd\n",
    "raw_data = pd.read_csv('/datasets/data.csv')\n",
    "\n",
    "from pymystem3 import Mystem # здесь же сразу все необходимые импорты\n",
    "m = Mystem()\n",
    "\n",
    "#from collections import Counter\n",
    "\n",
    "print (raw_data.info())"
   ]
  },
  {
   "cell_type": "markdown",
   "metadata": {},
   "source": [
    "### Вывод"
   ]
  },
  {
   "cell_type": "markdown",
   "metadata": {},
   "source": [
    ">В \"days_employed\" и \"total_income\" данных меньше чем в остальных столбцах, но одинаковое количество. Что логично: нет работы - нет дохода. Возможно человек не смог предоставить справку \n",
    "\n",
    ">Не понятно почему тип данных в days_employed float. По идее должен быть int. Не может быть информации что кто-то работает 100 дней и 7 часов, поэтому количество дней должно быть целым. И уж точно не отрицательным! <b>ПОСМОТРЕТЬ ЧТО ЭТО. ВОЗМОЖНО ПОПРАВИТЬ</b>\n",
    "\n",
    ">Название столбца dob_years не очень понятно. dob это все таки дата рождения а не возраст, а данные в столбце именно возраст <b>ПЕРЕИМЕНОВАТЬ В age_years</b>\n",
    "\n",
    ">Явная ошибка с регистром в столбце education - среднее & Среднее <b>ПРОВЕРИТЬ ВСЕ ЗАПИСИ И ПОПРАВИТЬ</b>\n",
    "\n",
    ">Не очень понятно зачем education если есть education_id (тоже самое относится к family_status vs family_status_id) В рамках того, что мы изучани, эти данные нужно <b>выносить в словари</b> хотя по хорошему список фиксированных значений можно просто включить в описание данных оставив в данных только id и на этом успокоиться. \n",
    "\n",
    ">В  total_income тоже что-то странное. Во-первых это не total_income а monthly_income Даже представить не могу откуа бы взялись десятитысячные доли копеек. Требуется уточнение у поставщика данных и у потребителя анализа насколько нужна эта информация с ТАКОЙ точностью, но пока предлагаю <b>округлить до рублей</b> и, соответственно, преобразовать в int"
   ]
  },
  {
   "cell_type": "markdown",
   "metadata": {},
   "source": [
    "### Шаг 2. Предобработка данных"
   ]
  },
  {
   "cell_type": "markdown",
   "metadata": {},
   "source": [
    ">Сначала переименуем столбец dob_years -> age_years и total_income в monthly_income"
   ]
  },
  {
   "cell_type": "code",
   "execution_count": 21,
   "metadata": {},
   "outputs": [
    {
     "name": "stdout",
     "output_type": "stream",
     "text": [
      "Index(['children', 'days_employed', 'age_years', 'education', 'education_id',\n",
      "       'family_status', 'family_status_id', 'gender', 'income_type', 'debt',\n",
      "       'monthly_income', 'purpose'],\n",
      "      dtype='object')\n"
     ]
    }
   ],
   "source": [
    "raw_data.set_axis(['children', 'days_employed', 'age_years', 'education', 'education_id',\n",
    "       'family_status', 'family_status_id', 'gender', 'income_type', 'debt',\n",
    "       'monthly_income', 'purpose'], axis = 'columns', inplace = True)\n",
    "\n",
    "\n",
    "print (raw_data.columns) #проверяем что получилось"
   ]
  },
  {
   "cell_type": "markdown",
   "metadata": {},
   "source": [
    "### Обработка пропусков"
   ]
  },
  {
   "cell_type": "code",
   "execution_count": 22,
   "metadata": {},
   "outputs": [
    {
     "name": "stdout",
     "output_type": "stream",
     "text": [
      "children               0\n",
      "days_employed       2174\n",
      "age_years              0\n",
      "education              0\n",
      "education_id           0\n",
      "family_status          0\n",
      "family_status_id       0\n",
      "gender                 0\n",
      "income_type            0\n",
      "debt                   0\n",
      "monthly_income      2174\n",
      "purpose                0\n",
      "dtype: int64\n"
     ]
    }
   ],
   "source": [
    "print (raw_data.isnull().sum()) # смотрим что там у нас с пропусками"
   ]
  },
  {
   "cell_type": "markdown",
   "metadata": {},
   "source": [
    "### Вывод"
   ]
  },
  {
   "cell_type": "markdown",
   "metadata": {},
   "source": [
    ">На первый взгляд все в порядке - пропуски там где нужно, по крайней мере ожидаемые. Проверю совпадают ли записи от отсутствии опыта работы и дохода на 100%. Удовлетворяющих обоим критериям записей должно быть 2174"
   ]
  },
  {
   "cell_type": "code",
   "execution_count": 23,
   "metadata": {},
   "outputs": [
    {
     "name": "stdout",
     "output_type": "stream",
     "text": [
      "2174\n"
     ]
    }
   ],
   "source": [
    "print (raw_data[(raw_data['days_employed'].isna()) & raw_data['monthly_income'].isna()].shape[0])"
   ]
  },
  {
   "cell_type": "markdown",
   "metadata": {},
   "source": [
    ">Проверка прошла, заполняем все NaNы в days_employed и monthly_income на 0. Это никак не повлияет на анализ, но после этого мы сможем преобразовать оба столбца в int. Позже рассмотрю возможность заполнить пропуски чем то более осмысленным\n",
    "\n",
    ">Перед заполнение пропусков нулями нужно проверить есть ли 0 уже. Не могу точно сказать зачем это, но как то мне кажется \n",
    "правильным отличать нули которые были изначально от нулей заполнителей."
   ]
  },
  {
   "cell_type": "code",
   "execution_count": 24,
   "metadata": {},
   "outputs": [
    {
     "name": "stdout",
     "output_type": "stream",
     "text": [
      "Записи с нулевым доходом 0\n",
      "Записи с нулевым стажем 0\n"
     ]
    }
   ],
   "source": [
    "print ('Записи с нулевым доходом', raw_data[(raw_data['monthly_income']==0)]['monthly_income'].count()) \n",
    "print ('Записи с нулевым стажем', raw_data[(raw_data['days_employed']==0)]['days_employed'].count())\n",
    "\n",
    "raw_data['days_employed'] = raw_data['days_employed'].fillna(0) \n",
    "raw_data['monthly_income'] = raw_data['monthly_income'].fillna(0)"
   ]
  },
  {
   "cell_type": "markdown",
   "metadata": {},
   "source": [
    "#### Анализ children"
   ]
  },
  {
   "cell_type": "markdown",
   "metadata": {},
   "source": [
    ">Здесь нужно чтобы не было значенй меньше 0 и слишком большого их количества. То что нет дробных детей мы уже поняли - children non-null int64. Ну и чтобы не было пропусков"
   ]
  },
  {
   "cell_type": "code",
   "execution_count": 25,
   "metadata": {},
   "outputs": [
    {
     "name": "stdout",
     "output_type": "stream",
     "text": [
      "Детей меньше нуля 47\n",
      "Детей максимум 20\n",
      "Пропуски 0\n"
     ]
    }
   ],
   "source": [
    "print ('Детей меньше нуля' , raw_data[raw_data['children'] < 0]['children'].count())\n",
    "print ('Детей максимум' , raw_data[raw_data['children'] >0]['children'].max())\n",
    "print ('Пропуски' , raw_data[(raw_data['children'].isna())].shape[0])\n"
   ]
  },
  {
   "cell_type": "markdown",
   "metadata": {},
   "source": [
    ">20? Хм... Такое конечно возможно, но на всякий случай сделаем дополнительную проверку"
   ]
  },
  {
   "cell_type": "code",
   "execution_count": 26,
   "metadata": {},
   "outputs": [
    {
     "name": "stdout",
     "output_type": "stream",
     "text": [
      "15812    20\n",
      "16795    20\n",
      "15313    20\n",
      "5020     20\n",
      "3302     20\n",
      "         ..\n",
      "11617    -1\n",
      "20393    -1\n",
      "6385     -1\n",
      "9574     -1\n",
      "15435    -1\n",
      "Name: children, Length: 21525, dtype: int64\n"
     ]
    }
   ],
   "source": [
    "print (raw_data['children'].sort_values(ascending=False)) # Смотрим самые многотелные семьи"
   ]
  },
  {
   "cell_type": "markdown",
   "metadata": {},
   "source": [
    ">Ого! 20 детей оказывается не 1-2 случая. Их много!"
   ]
  },
  {
   "cell_type": "code",
   "execution_count": 27,
   "metadata": {},
   "outputs": [
    {
     "name": "stdout",
     "output_type": "stream",
     "text": [
      "76\n"
     ]
    }
   ],
   "source": [
    "print(raw_data[raw_data['children'] == 20]['children'].count()) # Смотрим сколько семей есть с 20 детьми"
   ]
  },
  {
   "cell_type": "markdown",
   "metadata": {},
   "source": [
    ">76 20-ти детных семей.... А что за ними?"
   ]
  },
  {
   "cell_type": "code",
   "execution_count": 28,
   "metadata": {},
   "outputs": [
    {
     "name": "stdout",
     "output_type": "stream",
     "text": [
      "19271    20\n",
      "16211     5\n",
      "15822     5\n",
      "20452     5\n",
      "21156     5\n",
      "20837     5\n",
      "15916     5\n",
      "3979      5\n",
      "4397      5\n",
      "Name: children, dtype: int64\n"
     ]
    }
   ],
   "source": [
    "print (raw_data['children'].sort_values(ascending=False)[75:84]) # Смотрим сколько детей после рекордсменов"
   ]
  },
  {
   "cell_type": "markdown",
   "metadata": {},
   "source": [
    ">76 записей с 20 детьми это очень сомнительно. Тем более что дальше сразу идут 5 детей. Плюс 47 записей с отрицательным числом. Итого 123 записи. Меньше 1 процента явного брака. И вот тпереь есть варианты:\n",
    "\n",
    "* Обнуляем эти записи и пишем в рекомендации - нам не известно есть ли дети у этих людей или нет. Если мы их обнулим, то переведем в категорию \"бездетных\" и это может попортить нам анализ\n",
    "* Заполняем какими то средними значениями - это совсем не подойдет. Опять же искажение статистики\n",
    "* Удаляем записи - как не печально, но видимо это единственный вариант в данном случае. Данные критичные для задачи, и лучше вообще никаких чем искаженные. Тем более что достоверно восстановить их не получится\n",
    "\n",
    ">Хотя... наверное стоит взглянуть на эти записи, а потом удалить ;) "
   ]
  },
  {
   "cell_type": "code",
   "execution_count": 29,
   "metadata": {},
   "outputs": [],
   "source": [
    "#print ('Детей меньше нуля' , raw_data[raw_data['children'] < 0].head(20))\n",
    "#print ('Детей 20' , raw_data[raw_data['children'] ==20].head(20))\n"
   ]
  },
  {
   "cell_type": "markdown",
   "metadata": {},
   "source": [
    ">Ну да, никакой четкой зависимости, по которой можно было бы определить точные данные. Так что удаляем!"
   ]
  },
  {
   "cell_type": "code",
   "execution_count": 30,
   "metadata": {},
   "outputs": [
    {
     "name": "stdout",
     "output_type": "stream",
     "text": [
      "Детей меньше нуля 0\n",
      "Детей максимум 5\n"
     ]
    }
   ],
   "source": [
    "raw_data = raw_data.loc[raw_data['children'] >= 0]\n",
    "raw_data = raw_data.loc[raw_data['children'] != 20]\n",
    "\n",
    "\n",
    "print ('Детей меньше нуля' , raw_data[raw_data['children'] < 0]['children'].count()) #проверка\n",
    "print ('Детей максимум' , raw_data[raw_data['children'] >0]['children'].max())"
   ]
  },
  {
   "cell_type": "markdown",
   "metadata": {},
   "source": [
    "#### Анализ days_employed"
   ]
  },
  {
   "cell_type": "code",
   "execution_count": 31,
   "metadata": {},
   "outputs": [
    {
     "name": "stdout",
     "output_type": "stream",
     "text": [
      "   children  days_employed  age_years\n",
      "0         1   -8437.673028         42\n",
      "1         1   -4024.803754         36\n",
      "2         0   -5623.422610         33\n",
      "3         3   -4124.747207         32\n",
      "4         0  340266.072047         53\n"
     ]
    }
   ],
   "source": [
    "print (raw_data.loc[:,'children':'age_years'].head(5)) # общий взгляд"
   ]
  },
  {
   "cell_type": "markdown",
   "metadata": {},
   "source": [
    ">340266 дней это очень много, даже для 53 летнего человека! А ну как это часы? 340 266/8 = 42 533 все равно многовато. Очевидно \n",
    "это не единичная ошибка, т.к. дальше там еще бОльшие значения идут и не в единичном варианте. А если посмотреть на возраста тех, кто в положительной и отрицательной зоне?   "
   ]
  },
  {
   "cell_type": "code",
   "execution_count": 32,
   "metadata": {},
   "outputs": [
    {
     "name": "stdout",
     "output_type": "stream",
     "text": [
      "39.81959643241192\n",
      "59.13523754007578\n"
     ]
    }
   ],
   "source": [
    "print (raw_data[raw_data['days_employed']<0]['age_years'].mean())\n",
    "print (raw_data[raw_data['days_employed']>0]['age_years'].mean())"
   ]
  },
  {
   "cell_type": "markdown",
   "metadata": {},
   "source": [
    ">Хм... попробуем так..."
   ]
  },
  {
   "cell_type": "code",
   "execution_count": 33,
   "metadata": {},
   "outputs": [
    {
     "name": "stdout",
     "output_type": "stream",
     "text": [
      "75\n",
      "0\n"
     ]
    }
   ],
   "source": [
    "print (raw_data[raw_data['days_employed']<0]['age_years'].max())\n",
    "print (raw_data[raw_data['days_employed']>0]['age_years'].min())"
   ]
  },
  {
   "cell_type": "markdown",
   "metadata": {},
   "source": [
    ">Ну хоть какая то польза - нашелся новорожденный у которого стаж больше 0... А если так:"
   ]
  },
  {
   "cell_type": "code",
   "execution_count": 34,
   "metadata": {},
   "outputs": [
    {
     "name": "stdout",
     "output_type": "stream",
     "text": [
      "пенсионер      3429\n",
      "безработный       2\n",
      "Name: income_type, dtype: int64\n",
      "сотрудник          9949\n",
      "компаньон          4550\n",
      "госслужащий        1307\n",
      "студент               1\n",
      "предприниматель       1\n",
      "в декрете             1\n",
      "Name: income_type, dtype: int64\n",
      "сотрудник          1101\n",
      "компаньон           504\n",
      "пенсионер           410\n",
      "госслужащий         146\n",
      "предприниматель       1\n",
      "Name: income_type, dtype: int64\n"
     ]
    }
   ],
   "source": [
    "print (raw_data[raw_data['days_employed'] > 0]['income_type'].value_counts())\n",
    "print (raw_data[raw_data['days_employed'] < 0]['income_type'].value_counts())\n",
    "print (raw_data[raw_data['days_employed'] == 0]['income_type'].value_counts())"
   ]
  },
  {
   "cell_type": "markdown",
   "metadata": {},
   "source": [
    ">Вот. Что-то! Итак, у тех у кого стаж больше нуля есть дата окончания стажа. У все остальных \"по сегодняшний день\" Посмотрим\n",
    "внимательно на тех у кого стаж < 0: "
   ]
  },
  {
   "cell_type": "code",
   "execution_count": 35,
   "metadata": {},
   "outputs": [
    {
     "name": "stdout",
     "output_type": "stream",
     "text": [
      "-24.14163324048118\n",
      "-18388.949900568383\n"
     ]
    }
   ],
   "source": [
    "print (raw_data[raw_data['days_employed']<0]['days_employed'].max())\n",
    "print (raw_data[raw_data['days_employed']<0]['days_employed'].min())"
   ]
  },
  {
   "cell_type": "markdown",
   "metadata": {},
   "source": [
    ">От 1 месяца до 50 лет. Реальные цифры. На всякий случай..."
   ]
  },
  {
   "cell_type": "code",
   "execution_count": 75,
   "metadata": {},
   "outputs": [
    {
     "name": "stdout",
     "output_type": "stream",
     "text": [
      "16202    61\n",
      "Name: age_years, dtype: int64\n"
     ]
    }
   ],
   "source": [
    "print (raw_data[raw_data['days_employed']==-18388.949900568383]['age_years']) # возраст того у кого стаж 50 лет"
   ]
  },
  {
   "cell_type": "markdown",
   "metadata": {},
   "source": [
    ">Т.е. стаж начал начисляться с 11 лет. Вроде невозможно. Но! Есть случаи, когда стаж начисляется в 1,5, двойном и даже тройном размере. Так что ничего невозможного (Чернобыль, лепризорий, крайний север и т.д.) Для более точной проверки сделаем отдельную проверку по соотношению стаж/(возраст - 16 лет) предполагая что стаж начисляется не раньше 16"
   ]
  },
  {
   "cell_type": "code",
   "execution_count": 77,
   "metadata": {},
   "outputs": [
    {
     "name": "stdout",
     "output_type": "stream",
     "text": [
      "       years_employed  employ_age  check_employ_ratio\n",
      "14400    -1097.857291         -16           68.616081\n",
      "577      -1089.271910         -16           68.079494\n",
      "16725    -1083.898189         -16           67.743637\n",
      "14545    -1081.312375         -16           67.582023\n",
      "10120    -1017.564076         -16           63.597755\n",
      "1167     -1015.412753         -16           63.463297\n",
      "1889     -1013.400512         -16           63.337532\n",
      "8010     -1003.306975         -16           62.706686\n",
      "6994     -1002.238962         -16           62.639935\n",
      "15759     -974.245817         -16           60.890364\n",
      "12634     -972.237442         -16           60.764840\n",
      "99        -948.779244         -16           59.298703\n",
      "20278     -927.405526         -16           57.962845\n",
      "4894      -921.330612         -16           57.583163\n",
      "11975     -909.473934         -16           56.842121\n",
      "20393     -908.258101         -16           56.766131\n",
      "18953     -907.757840         -16           56.734865\n",
      "3399        15.534202          13            1.194939\n",
      "10987       10.668597           9            1.185400\n",
      "5674        36.168337          31            1.166721\n"
     ]
    }
   ],
   "source": [
    "check_employ_years= raw_data['days_employed'] * (-1)/365.25 #считаем года\n",
    "employ_age = raw_data['age_years'] - 16 # считаем максимально возможный срок начисления стажа\n",
    "check_employ_ratio = check_employ_years / employ_age \n",
    "\n",
    "check_employ_data = pd.DataFrame()\n",
    "\n",
    "check_employ_data['years_employed'] = check_employ_years\n",
    "check_employ_data['employ_age'] = employ_age\n",
    "check_employ_data['check_employ_ratio'] = check_employ_ratio\n",
    "\n",
    "print (check_employ_data.sort_values(by='check_employ_ratio', ascending = False).head(20))"
   ]
  },
  {
   "cell_type": "markdown",
   "metadata": {},
   "source": [
    ">Запомним что есть 17 младенцев со стажем около 1000 лет. Посмотрим позже, а пока посмотрим тех кто постарше"
   ]
  },
  {
   "cell_type": "code",
   "execution_count": 38,
   "metadata": {},
   "outputs": [
    {
     "name": "stdout",
     "output_type": "stream",
     "text": [
      "       years_employed  employ_age  check_employ_ratio\n",
      "3417        15.544842          13            1.195757\n",
      "11066       10.675904           9            1.186212\n",
      "5708        36.193110          31            1.167520\n",
      "18789       11.648501          10            1.164850\n",
      "13531       26.747507          23            1.162935\n",
      "...               ...         ...                 ...\n",
      "1539        43.248435          43            1.005778\n",
      "4300        19.080962          19            1.004261\n",
      "5995        16.059309          16            1.003707\n",
      "13883       25.089888          25            1.003596\n",
      "8           18.985932          19            0.999260\n",
      "\n",
      "[90 rows x 3 columns]\n"
     ]
    }
   ],
   "source": [
    "print (check_employ_data[check_employ_data['employ_age']>0].sort_values(by='check_employ_ratio', ascending = False).head(90))\n",
    "\n",
    "\n",
    "del check_employ_data # подчищаем не нужный уже ДатаФрейм"
   ]
  },
  {
   "cell_type": "markdown",
   "metadata": {},
   "source": [
    ">По идее все, что больше 1 уже подозрительно. Но, уже 90 запись опускается ниже 1 (т.к. данные о возрасте поставляются в годах, а о стаже в днях то расходнение может быть больше) Плюс в копилку теории что отрицательный стаж это положительный но посчитанный в другую сторону - максимальное значение ratio ~1.2 что не так много учитывая возможности двойных и тройных стажей. Т.е. вполне возможно что это реальные данные \n",
    "\n",
    ">Попробую разобраться с положительными значениями. Итак, я знаю что в положительных у меня:\n",
    "\n",
    ">>пенсионер      3443\n",
    ">>безработный       2\n",
    "\n",
    ">Есть еще люди с нулевым стажем:\n",
    "\n",
    ">>сотрудник          1105\n",
    ">>компаньон           508\n",
    ">>пенсионер           413\n",
    ">>госслужащий         147\n",
    ">>предприниматель       1\n",
    "\n",
    ">Посмотрим сначала на положительные"
   ]
  },
  {
   "cell_type": "code",
   "execution_count": 78,
   "metadata": {},
   "outputs": [
    {
     "name": "stdout",
     "output_type": "stream",
     "text": [
      "328728.72060451825\n",
      "401755.40047533\n"
     ]
    }
   ],
   "source": [
    "print (raw_data[raw_data['days_employed']>0]['days_employed'].min())\n",
    "print (raw_data[raw_data['days_employed']>0]['days_employed'].max())"
   ]
  },
  {
   "cell_type": "markdown",
   "metadata": {},
   "source": [
    ">Если это правда дни, то прикинем в годах: от 900 до 1100 (делил на 365,25) 200 лет слишком большая разница чтобы быть правдой. А если поделить еще на 30? Ну скажем года (из стравки пенсионного фонда, там стаж в годах - 22,97 у меня например) планировали умножать на 12 а потом на 30, но потом решили умножать на 365 (или 365,25) а про 30 забыли...\n",
    "\n",
    ">Получается от 30 до 36,7.... \"Средний трудовой стаж в РФ при выходе на пенсию составляет 34,5 года\" - это данные за 2013 год. Уже похоже на правду!\n",
    "\n",
    ">Кстати, средняя пенсия за январь 2018 года (Росстат) - 13323. Запомним на будущее!\n",
    "\n",
    ">Посмотрим что там с двумя безработными у которых тоже очень большой стаж"
   ]
  },
  {
   "cell_type": "code",
   "execution_count": 79,
   "metadata": {},
   "outputs": [
    {
     "name": "stdout",
     "output_type": "stream",
     "text": [
      "Empty DataFrame\n",
      "Columns: [children, days_employed, days_employed_fixed, age_years, education, education_id, family_status, family_status_id, gender, income_type, debt, monthly_income, monthly_income_fixed, purpose, purpose_object_id, purpose_action_id, income_type_id]\n",
      "Index: []\n"
     ]
    }
   ],
   "source": [
    "print (raw_data[raw_data['income_type']=='безработный'])"
   ]
  },
  {
   "cell_type": "markdown",
   "metadata": {},
   "source": [
    ">>Вот даже нет никакой идеи, что бы это могло быть. Можно конечно притянуть что-то за уши, но тут наверное уже нет смысла. Удаляем их.\n",
    "\n",
    ">И переходим к нулевым стажам:"
   ]
  },
  {
   "cell_type": "code",
   "execution_count": 80,
   "metadata": {},
   "outputs": [
    {
     "name": "stdout",
     "output_type": "stream",
     "text": [
      "сотрудник          1066\n",
      "компаньон           497\n",
      "пенсионер           383\n",
      "госслужащий         144\n",
      "предприниматель       1\n",
      "Name: income_type, dtype: int64\n"
     ]
    }
   ],
   "source": [
    "raw_data = raw_data.loc[raw_data['income_type'] != 'безработный']\n",
    "\n",
    "print (raw_data[raw_data['days_employed']==0]['income_type'].value_counts())"
   ]
  },
  {
   "cell_type": "markdown",
   "metadata": {},
   "source": [
    ">У них и стаж и доход нулевой. При этом, судя по занятости, все должны получать какой то доход. Ну может кроме предпринимателя. Т.е. это у нас пропуск данных. И те и другие данные относятся к количественным и если их восстанавливать, то нужно взять выборку по ровестникам того же пола и с тем же типом занятости, посчитать медиану для стажа и дохода и заполнить этими данными. Для начала стоит посмотреть что это за данные..."
   ]
  },
  {
   "cell_type": "code",
   "execution_count": 81,
   "metadata": {},
   "outputs": [
    {
     "name": "stdout",
     "output_type": "stream",
     "text": [
      "         employ_type age gender         min           max       median\n",
      "94       госслужащий  19      F  509.969922    509.969922   509.969922\n",
      "97       госслужащий  20      M  250.777658   1040.564490   645.671074\n",
      "98       госслужащий  21      F  289.746010   1646.841004  1179.796773\n",
      "99       госслужащий  21      M  476.028857   1206.015770  1178.018163\n",
      "100      госслужащий  22      F  210.024134   1345.236906   465.461685\n",
      "..               ...  ..    ...         ...           ...          ...\n",
      "348        сотрудник  58      F  123.721457  13976.806877  1986.353728\n",
      "349        сотрудник  58      M  144.618428  12747.577578  1913.139751\n",
      "350        сотрудник  59      F  103.967950  16264.699501  3296.059923\n",
      "351        сотрудник  59      M  236.881968  14677.902293  2363.459436\n",
      "374  предприниматель  27      F  520.848083    520.848083   520.848083\n",
      "\n",
      "[245 rows x 6 columns]\n"
     ]
    }
   ],
   "source": [
    "def get_employed_data(etype,age,gender): # функция для заполнения справочной таблицы\n",
    "    temp_data = raw_data[(raw_data['income_type']==etype) & (raw_data['age_years']==age) &  (raw_data['gender']==gender) & \n",
    "                         (raw_data['days_employed'] < 0)] # так как данные о стаже у нас еще отрицательные, то отбираем их...\n",
    "   \n",
    "    days_min = temp_data['days_employed'].max() * -1 # и делаем из них положительные!\n",
    "    days_max = temp_data['days_employed'].min() * -1\n",
    "    days_med = temp_data['days_employed'].median() * -1\n",
    "     \n",
    "    return [days_min, days_max, days_med] #возвращаем стаж для данного пола, типа занятости и возраста мин, макс и медиану\n",
    "    \n",
    "employ_types = raw_data[raw_data['days_employed']==0]['income_type'].unique() #получаем список типов занятости\n",
    "\n",
    "et_age_gender_data = pd.DataFrame(columns = ['employ_type','age','gender', 'min','max','median']) #делаем таблицу под справочник\n",
    "\n",
    "for e_type in employ_types: # для все типов занятости    \n",
    "    for x in range(16, 60): # в возрасте от 16 до 60\n",
    "        gender = ['F','M']\n",
    "        for g in gender: #обоих полов\n",
    "            ch_data = get_employed_data(e_type, x, g) # обращаемся к функции\n",
    "            data = [e_type,x,g,ch_data[0],ch_data[1],ch_data[2]] # создаем строку для записи\n",
    "            et_age_gender_data.loc[et_age_gender_data.shape[0]] = data #вносим в таблицу\n",
    "\n",
    "et_age_gender_data.dropna(inplace=True) # чистим те записи, где нет данных\n",
    "\n",
    "print (et_age_gender_data) \n",
    "\n",
    "del et_age_gender_data #подчищаем"
   ]
  },
  {
   "cell_type": "markdown",
   "metadata": {},
   "source": [
    ">Гадание на кофейной гуще. Нулевые данные такими и останутся!"
   ]
  },
  {
   "cell_type": "markdown",
   "metadata": {},
   "source": [
    "#### Вывод "
   ]
  },
  {
   "cell_type": "markdown",
   "metadata": {},
   "source": [
    "* я считаю что данные в days_employed дискредитированы и не могут использоваться для какого то анализа\n",
    "* проблема легко решается при помощи звонка тому, кто данные предоставил, но <s> это не спортивно </s> у меня нет его номера;\n",
    "* рабочий стаж не та информация, которую мы должны анализировать. Он не имеет отношения к семейному положению или детям. Это сторонние данные, но если есть возможность выяснить природу ошибки и помочь коллегам, то почему нет;\n",
    "* я не знаю является ли стаж официально начисленым, либо просто разность \"окончание работы\" - \"начало работы\" во втором случае все соображения о увеличении стажа за счет коэффициентов можно выкинуть в ведро. Как, видимо, и весь столбец days_employed ;)\n",
    "\n",
    "Поэтому:\n",
    "\n",
    "* пишем в отзывы о проблеме\n",
    "* фиксим положительные стажи деля их на 30\n",
    "* фиксим отрицательные стажи умножая их на (-1)\n",
    "* если и испульзуем данные в дельнейшем анализе то с оглядкой"
   ]
  },
  {
   "cell_type": "code",
   "execution_count": 82,
   "metadata": {},
   "outputs": [
    {
     "name": "stdout",
     "output_type": "stream",
     "text": [
      "Столбец уже добавлен\n",
      "<class 'pandas.core.frame.DataFrame'>\n",
      "Int64Index: 21328 entries, 0 to 21327\n",
      "Data columns (total 17 columns):\n",
      "children                21328 non-null int64\n",
      "days_employed           21328 non-null float64\n",
      "days_employed_fixed     21328 non-null float64\n",
      "age_years               21328 non-null int64\n",
      "education               21328 non-null object\n",
      "education_id            21328 non-null int64\n",
      "family_status           21328 non-null object\n",
      "family_status_id        21328 non-null int64\n",
      "gender                  21328 non-null object\n",
      "income_type             21328 non-null object\n",
      "debt                    21328 non-null int64\n",
      "monthly_income          21328 non-null float64\n",
      "monthly_income_fixed    21328 non-null int64\n",
      "purpose                 21328 non-null object\n",
      "purpose_object_id       21328 non-null int64\n",
      "purpose_action_id       21328 non-null int64\n",
      "income_type_id          21328 non-null int64\n",
      "dtypes: float64(3), int64(9), object(5)\n",
      "memory usage: 3.6+ MB\n",
      "None\n"
     ]
    }
   ],
   "source": [
    "try:\n",
    "    raw_data.insert(2,'days_employed_fixed',int) # новый столбец для поправленного стажа\n",
    "except:\n",
    "    print ('Столбец уже добавлен')\n",
    "    \n",
    "raw_data.loc[(raw_data['days_employed'] > 0),'days_employed_fixed'] = round(raw_data['days_employed']/30)\n",
    "raw_data.loc[(raw_data['days_employed'] < 0),'days_employed_fixed'] = round(raw_data['days_employed']*-1)\n",
    "raw_data.loc[(raw_data['days_employed'] == 0),'days_employed_fixed'] = 0\n",
    "\n",
    "print (raw_data.info())"
   ]
  },
  {
   "cell_type": "markdown",
   "metadata": {},
   "source": [
    "#### Проверка столбца age_years"
   ]
  },
  {
   "cell_type": "markdown",
   "metadata": {},
   "source": [
    ">Похоже на проверку детей - главное чтобы не было меньше или равно 0 и не слишком большие значения"
   ]
  },
  {
   "cell_type": "code",
   "execution_count": 83,
   "metadata": {
    "scrolled": true
   },
   "outputs": [
    {
     "name": "stdout",
     "output_type": "stream",
     "text": [
      "Возраст меньше или равен нулю 100\n",
      "Возраст долгожителя/ей 75\n"
     ]
    }
   ],
   "source": [
    "print ('Возраст меньше или равен нулю' , raw_data[raw_data['age_years'] <= 0]['age_years'].count())\n",
    "print ('Возраст долгожителя/ей' , raw_data[raw_data['age_years'] >0]['age_years'].max())"
   ]
  },
  {
   "cell_type": "markdown",
   "metadata": {},
   "source": [
    ">С долгожителями все в порядке. А вот с младенцами не очень. На самом деле, нас интересуеют даже не 0, а лет 14-16, но там данные теже, я проверял. Таже сотня. \n",
    "\n",
    ">Итак. Возраст 0 лет это явный пропуск. Восстановить мы его не можем. Для задачи эти данные не критичны, поэтому вполне можно оставить \"0\" написав в рекомендации. Ну и дальше действовать помня об этом косяке. В остальном оставить как есть...\n",
    "\n",
    ">Была мысль проверить на предмет соответствия \"стаж\" и \"возраст\", но выше я выяснил что стаж может быть и больше реального времени работы."
   ]
  },
  {
   "cell_type": "markdown",
   "metadata": {},
   "source": [
    "#### Проверка столбцов education и education_id"
   ]
  },
  {
   "cell_type": "markdown",
   "metadata": {},
   "source": [
    ">Тут возможны следующие проблемы:\n",
    "\n",
    "1. расхождение id = наименование\n",
    "2. разные описания одного и того же\n",
    "3. разные АйДи одного и того же"
   ]
  },
  {
   "cell_type": "code",
   "execution_count": 84,
   "metadata": {},
   "outputs": [
    {
     "name": "stdout",
     "output_type": "stream",
     "text": [
      "Уникальные education ['высшее' 'среднее' 'неоконченное высшее' 'начальное' 'ученая степень']\n",
      "Уникальные education_id [0 1 2 3 4]\n",
      "Статусы соответствуют АйДи \"0\" -  ['высшее']\n",
      "Статусы соответствуют АйДи \"1\" -  ['среднее']\n",
      "Статусы соответствуют АйДи \"2\" -  ['неоконченное высшее']\n",
      "Статусы соответствуют АйДи \"3\" -  ['начальное']\n",
      "Статусы соответствуют АйДи \"4\" -  ['ученая степень']\n"
     ]
    }
   ],
   "source": [
    "raw_data['education'] = raw_data['education'].str.lower() # то что напутано с регистрами было ясно еще раньше\n",
    "\n",
    "print ('Уникальные education' ,raw_data['education'].unique())\n",
    "print ('Уникальные education_id' ,raw_data['education_id'].unique())\n",
    "\n",
    "print ('Статусы соответствуют АйДи \"0\" - ', raw_data[raw_data['education_id'] == 0]['education'].unique())\n",
    "print ('Статусы соответствуют АйДи \"1\" - ', raw_data[raw_data['education_id'] == 1]['education'].unique())\n",
    "print ('Статусы соответствуют АйДи \"2\" - ', raw_data[raw_data['education_id'] == 2]['education'].unique())\n",
    "print ('Статусы соответствуют АйДи \"3\" - ', raw_data[raw_data['education_id'] == 3]['education'].unique())\n",
    "print ('Статусы соответствуют АйДи \"4\" - ', raw_data[raw_data['education_id'] == 4]['education'].unique())\n"
   ]
  },
  {
   "cell_type": "markdown",
   "metadata": {},
   "source": [
    ">>Ну красота просто! Всегда бы так! "
   ]
  },
  {
   "cell_type": "markdown",
   "metadata": {},
   "source": [
    "#### Проверка столбцов family_status и family_status_id\n",
    "\n",
    ">Теже соображения что и в предыдущем пункте"
   ]
  },
  {
   "cell_type": "code",
   "execution_count": 85,
   "metadata": {},
   "outputs": [
    {
     "name": "stdout",
     "output_type": "stream",
     "text": [
      "Уникальные family_status ['женат / замужем' 'гражданский брак' 'вдовец / вдова' 'в разводе'\n",
      " 'Не женат / не замужем']\n",
      "Уникальные family_status_id [0 1 2 3 4]\n",
      "Статусы соответствуют АйДи \"0\" -  ['женат / замужем']\n",
      "Статусы соответствуют АйДи \"1\" -  ['гражданский брак']\n",
      "Статусы соответствуют АйДи \"2\" -  ['вдовец / вдова']\n",
      "Статусы соответствуют АйДи \"3\" -  ['в разводе']\n",
      "Статусы соответствуют АйДи \"4\" -  ['Не женат / не замужем']\n"
     ]
    }
   ],
   "source": [
    "print ('Уникальные family_status' ,raw_data['family_status'].unique())\n",
    "print ('Уникальные family_status_id' ,raw_data['family_status_id'].unique())\n",
    "\n",
    "print ('Статусы соответствуют АйДи \"0\" - ', raw_data[raw_data['family_status_id'] == 0]['family_status'].unique())\n",
    "print ('Статусы соответствуют АйДи \"1\" - ', raw_data[raw_data['family_status_id'] == 1]['family_status'].unique())\n",
    "print ('Статусы соответствуют АйДи \"2\" - ', raw_data[raw_data['family_status_id'] == 2]['family_status'].unique())\n",
    "print ('Статусы соответствуют АйДи \"3\" - ', raw_data[raw_data['family_status_id'] == 3]['family_status'].unique())\n",
    "print ('Статусы соответствуют АйДи \"4\" - ', raw_data[raw_data['family_status_id'] == 4]['family_status'].unique())\n"
   ]
  },
  {
   "cell_type": "markdown",
   "metadata": {},
   "source": [
    ">>Так хорошо что уже начинаю задумываться: \"Что я делаю не так?!\""
   ]
  },
  {
   "cell_type": "markdown",
   "metadata": {},
   "source": [
    "#### Проверка столбца gender"
   ]
  },
  {
   "cell_type": "code",
   "execution_count": 86,
   "metadata": {},
   "outputs": [
    {
     "name": "stdout",
     "output_type": "stream",
     "text": [
      "Уникальные gender ['F' 'M']\n"
     ]
    }
   ],
   "source": [
    "print ('Уникальные gender' ,raw_data['gender'].unique()) # список уникальных полов\n"
   ]
  },
  {
   "cell_type": "code",
   "execution_count": 87,
   "metadata": {},
   "outputs": [
    {
     "name": "stdout",
     "output_type": "stream",
     "text": [
      "Записи с gender = XNA Empty DataFrame\n",
      "Columns: [children, days_employed, days_employed_fixed, age_years, education, education_id, family_status, family_status_id, gender, income_type, debt, monthly_income, monthly_income_fixed, purpose, purpose_object_id, purpose_action_id, income_type_id]\n",
      "Index: []\n"
     ]
    }
   ],
   "source": [
    "print ('Записи с gender = XNA' , raw_data[raw_data['gender']=='XNA'])  # смотрим что с представителями третьего пола\n"
   ]
  },
  {
   "cell_type": "code",
   "execution_count": 88,
   "metadata": {},
   "outputs": [
    {
     "name": "stdout",
     "output_type": "stream",
     "text": [
      "Проверка уникальные gender ['F' 'M']\n"
     ]
    }
   ],
   "source": [
    "raw_data = raw_data[raw_data['gender'] !='XNA'] # одна запись, пол определить невозможно. Можно заменить на \"неопределенный\", но\n",
    "                                                # в данном случае проще удалить\n",
    "    \n",
    "print ('Проверка уникальные gender' ,raw_data['gender'].unique())"
   ]
  },
  {
   "cell_type": "markdown",
   "metadata": {},
   "source": [
    "#### Проверка столбца income_type"
   ]
  },
  {
   "cell_type": "code",
   "execution_count": 89,
   "metadata": {},
   "outputs": [
    {
     "name": "stdout",
     "output_type": "stream",
     "text": [
      "Уникальные income_type ['сотрудник' 'пенсионер' 'компаньон' 'госслужащий' 'предприниматель'\n",
      " 'студент' 'в декрете']\n"
     ]
    }
   ],
   "source": [
    "print ('Уникальные income_type' ,raw_data['income_type'].unique())"
   ]
  },
  {
   "cell_type": "markdown",
   "metadata": {},
   "source": [
    ">Все в порядке."
   ]
  },
  {
   "cell_type": "markdown",
   "metadata": {},
   "source": [
    "#### Проверка столбца debt"
   ]
  },
  {
   "cell_type": "code",
   "execution_count": 90,
   "metadata": {},
   "outputs": [
    {
     "name": "stdout",
     "output_type": "stream",
     "text": [
      "Выпадающие debt 0\n"
     ]
    }
   ],
   "source": [
    "print ('Выпадающие debt' , raw_data[(raw_data['debt']!=1) & (raw_data['debt']!=0)].shape[0]) # могут быть только 0 и 1. \n",
    "#Так и есть\n",
    "\n",
    "# можно было сделать и через unique"
   ]
  },
  {
   "cell_type": "markdown",
   "metadata": {},
   "source": [
    "#### Проверка столбца monthly_income"
   ]
  },
  {
   "cell_type": "markdown",
   "metadata": {},
   "source": [
    ">При работе со стажем возникло подозрение, что пенсии у пенсионеров какие то слишком высокие. Не то чтобы я был против! Но, по данным Росстата средняя пенсия в январе 2018 года была 13323. Посмотрим что у нас в данных"
   ]
  },
  {
   "cell_type": "code",
   "execution_count": 92,
   "metadata": {},
   "outputs": [
    {
     "name": "stdout",
     "output_type": "stream",
     "text": [
      "Минимальная пенсия (мес) 20667.26379327158\n",
      "Максимальная пенсия (мес) 735103.2701666558\n"
     ]
    }
   ],
   "source": [
    "print ('Минимальная пенсия (мес)', raw_data[(raw_data['income_type']=='пенсионер') & \n",
    "                                      (raw_data['monthly_income']>0)]['monthly_income'].min()) # смотрим значения больше 0\n",
    "print ('Максимальная пенсия (мес)', raw_data[(raw_data['income_type']=='пенсионер')]['monthly_income'].max())"
   ]
  },
  {
   "cell_type": "markdown",
   "metadata": {},
   "source": [
    ">\"Ах если бы, ах если бы\" Но увы, больше похоже на данные за год. Проверим по госслужащим"
   ]
  },
  {
   "cell_type": "code",
   "execution_count": 93,
   "metadata": {},
   "outputs": [
    {
     "name": "stdout",
     "output_type": "stream",
     "text": [
      "Минимальная зп госслужащего (мес) 29200.077192982837\n",
      "Максимальная зп госслужащего (мес) 910451.4708141336\n"
     ]
    }
   ],
   "source": [
    "print ('Минимальная зп госслужащего (мес)', raw_data[(raw_data['income_type']=='госслужащий') & \n",
    "                                      (raw_data['monthly_income']>0)]['monthly_income'].min()) # смотрим значения больше 0\n",
    "print ('Максимальная зп госслужащего (мес)', raw_data[(raw_data['income_type']=='госслужащий')]['monthly_income'].max())"
   ]
  },
  {
   "cell_type": "markdown",
   "metadata": {},
   "source": [
    ">Опять больше похоже на годовые данные. 29 200 / 12 = 2433 в месяц. Увы, это может быть правдой. А вот 910451 в месяц. У Владимира Владимировича зп меньше! \n",
    "\n",
    ">Студент у нас один единственный с доходом 98201 - на него смотреть бесполезно\n",
    "\n",
    ">Посмотрим еще сотрудников"
   ]
  },
  {
   "cell_type": "code",
   "execution_count": 94,
   "metadata": {},
   "outputs": [
    {
     "name": "stdout",
     "output_type": "stream",
     "text": [
      "Минимальная зп сотрудника (мес) 21367.648356486974\n",
      "Максимальная зп сотрудника (мес) 1726276.0143316737\n",
      "Средняя зп сотрудника (мес) 145748.5708770672\n"
     ]
    }
   ],
   "source": [
    "print ('Минимальная зп сотрудника (мес)', raw_data[(raw_data['income_type']=='сотрудник') & \n",
    "                                      (raw_data['monthly_income']>0)]['monthly_income'].min()) # смотрим значения больше 0\n",
    "print ('Максимальная зп сотрудника (мес)', raw_data[(raw_data['income_type']=='сотрудник')]['monthly_income'].max())\n",
    "print ('Средняя зп сотрудника (мес)', raw_data[(raw_data['income_type']=='сотрудник')]['monthly_income'].mean())"
   ]
  },
  {
   "cell_type": "markdown",
   "metadata": {},
   "source": [
    ">Если поделить среднюю зп на 12 то получим 12 107. Это не соответствует статистике Росстата для средней зп по России, но гораздо ближе чем 145 286! И возможен некий перекос в наших данных - возможно за кредитами как раз обращаются люди с не самым высоким уровнем дохода\n",
    "\n",
    ">Помню что заполнил в этом столбце 2174 пропусков нулями. Это люди с отсутствием данных о доходах и стаже."
   ]
  },
  {
   "cell_type": "code",
   "execution_count": 95,
   "metadata": {},
   "outputs": [
    {
     "name": "stdout",
     "output_type": "stream",
     "text": [
      "Записи с нулевым доходом\n",
      "\n"
     ]
    }
   ],
   "source": [
    "print ('Записи с нулевым доходом')\n",
    "print ()\n",
    "#print (raw_data[(raw_data['monthly_income']==0)]) закоментировано чтобы не засорять экран. Все равно ничего интересного"
   ]
  },
  {
   "cell_type": "markdown",
   "metadata": {},
   "source": [
    ">Выяснить что это за пропуски и что с ним делать не удалось. Пусть будут пока, тем более что данные не основные, а там в записях есть и дети и пропуски платежей по кредитам\n",
    "\n",
    ">То, где есть записи делим на 12 в новый столбец"
   ]
  },
  {
   "cell_type": "code",
   "execution_count": 96,
   "metadata": {},
   "outputs": [
    {
     "name": "stdout",
     "output_type": "stream",
     "text": [
      "Столбец уже добавлен\n"
     ]
    }
   ],
   "source": [
    "try:\n",
    "    raw_data.insert(12,'monthly_income_fixed',int) #заводим новый столбец\n",
    "except:\n",
    "    print ('Столбец уже добавлен')\n",
    "    \n",
    "raw_data.loc[(raw_data['monthly_income'] > 0),'monthly_income_fixed'] = round(raw_data['monthly_income']/12)\n",
    "raw_data.loc[(raw_data['monthly_income'] <= 0),'monthly_income_fixed'] = 0"
   ]
  },
  {
   "cell_type": "markdown",
   "metadata": {},
   "source": [
    ">Столбец purpose пока не трогаем - оставим на будущее до лемматизации. И переходим к ....\n",
    "\n",
    "#### Поиск дубликатов"
   ]
  },
  {
   "cell_type": "code",
   "execution_count": 97,
   "metadata": {},
   "outputs": [
    {
     "name": "stdout",
     "output_type": "stream",
     "text": [
      "0\n",
      "0\n"
     ]
    }
   ],
   "source": [
    "print (raw_data.duplicated().sum()) # смотрим сколько их\n",
    "\n",
    "#Думаю что полные дубликаты в данном случае (с учетом кривости стажа и зарплаты) это точно задвоение и можно их смело удалять\n",
    "\n",
    "raw_data = raw_data.drop_duplicates().reset_index(drop=True)\n",
    "print (raw_data.duplicated().sum())"
   ]
  },
  {
   "cell_type": "markdown",
   "metadata": {},
   "source": [
    ">Если бы у нас были ФИО или id или какой то другой уникальный столбец, то имело бы смысл поискать дубликаты по нему. В нашем случае можно ограничиться полными дубликатами"
   ]
  },
  {
   "cell_type": "markdown",
   "metadata": {},
   "source": [
    "# Замена типа данных\n",
    "\n",
    ">Меняем тип данных только у новых столбцов по доходу и стажу. Старые не пойдут в новый ДатаФрейм, который будет создаваться для анализа данных, поэтому пусть остаются как есть"
   ]
  },
  {
   "cell_type": "code",
   "execution_count": 100,
   "metadata": {},
   "outputs": [
    {
     "name": "stdout",
     "output_type": "stream",
     "text": [
      "<class 'pandas.core.frame.DataFrame'>\n",
      "RangeIndex: 21328 entries, 0 to 21327\n",
      "Data columns (total 17 columns):\n",
      "children                21328 non-null int64\n",
      "days_employed           21328 non-null float64\n",
      "days_employed_fixed     21328 non-null int64\n",
      "age_years               21328 non-null int64\n",
      "education               21328 non-null object\n",
      "education_id            21328 non-null int64\n",
      "family_status           21328 non-null object\n",
      "family_status_id        21328 non-null int64\n",
      "gender                  21328 non-null object\n",
      "income_type             21328 non-null object\n",
      "debt                    21328 non-null int64\n",
      "monthly_income          21328 non-null float64\n",
      "monthly_income_fixed    21328 non-null int64\n",
      "purpose                 21328 non-null object\n",
      "purpose_object_id       21328 non-null int64\n",
      "purpose_action_id       21328 non-null int64\n",
      "income_type_id          21328 non-null int64\n",
      "dtypes: float64(2), int64(10), object(5)\n",
      "memory usage: 2.8+ MB\n",
      "None\n"
     ]
    }
   ],
   "source": [
    "raw_data['days_employed_fixed']=raw_data['days_employed_fixed'].astype('int') \n",
    "raw_data['monthly_income_fixed']=raw_data['monthly_income_fixed'].astype('int')\n",
    "\n",
    "print (raw_data.info())"
   ]
  },
  {
   "cell_type": "markdown",
   "metadata": {},
   "source": [
    "### Вывод"
   ]
  },
  {
   "cell_type": "markdown",
   "metadata": {},
   "source": [
    ">Все что хотелось заменилось без ошибок."
   ]
  },
  {
   "cell_type": "markdown",
   "metadata": {},
   "source": [
    "### Лемматизация"
   ]
  },
  {
   "cell_type": "code",
   "execution_count": 101,
   "metadata": {},
   "outputs": [
    {
     "name": "stdout",
     "output_type": "stream",
     "text": [
      "свадьба                                   790\n",
      "на проведение свадьбы                     763\n",
      "сыграть свадьбу                           760\n",
      "операции с недвижимостью                  672\n",
      "покупка коммерческой недвижимости         658\n",
      "покупка жилья для сдачи                   648\n",
      "операции с жильем                         647\n",
      "операции с коммерческой недвижимостью     645\n",
      "жилье                                     641\n",
      "покупка жилья                             640\n",
      "покупка жилья для семьи                   637\n",
      "недвижимость                              631\n",
      "строительство собственной недвижимости    628\n",
      "операции со своей недвижимостью           623\n",
      "строительство жилой недвижимости          620\n",
      "покупка своего жилья                      619\n",
      "строительство недвижимости                619\n",
      "покупка недвижимости                      615\n",
      "ремонт жилью                              603\n",
      "покупка жилой недвижимости                602\n",
      "на покупку своего автомобиля              504\n",
      "заняться высшим образованием              496\n",
      "автомобиль                                491\n",
      "сделка с подержанным автомобилем          481\n",
      "автомобили                                476\n",
      "свой автомобиль                           473\n",
      "на покупку подержанного автомобиля        471\n",
      "на покупку автомобиля                     469\n",
      "приобретение автомобиля                   459\n",
      "сделка с автомобилем                      455\n",
      "дополнительное образование                455\n",
      "высшее образование                        446\n",
      "получение дополнительного образования     444\n",
      "образование                               442\n",
      "получение образования                     440\n",
      "профильное образование                    432\n",
      "получение высшего образования             425\n",
      "заняться образованием                     408\n",
      "Name: purpose, dtype: int64\n"
     ]
    }
   ],
   "source": [
    "print (raw_data['purpose'].value_counts()) #для начала посмотрим какие цели встречаются"
   ]
  },
  {
   "cell_type": "markdown",
   "metadata": {},
   "source": [
    "> Сначала думал в направлении лемматизировать все, потом поискать ключевые слова и по ним определить purpose_category. Но что будет, если в таблице встретиться \"аренда автомобиля для свадьбы\" и \"аренда свадебного автомобиля\"? \"Постройка гаража для машины\", \"Покупка bmw\"? В данном конкретном случае все довольно просто - тут список значений просматривается глазами. Но если строк данных будет миллион, а в purpos'ах будет такая же мешанина? Нужно...\n",
    "\n",
    "* Пишем комментарий, что хорошо бы выбирать цели из списка фиксированных значений. \n",
    "* Смотрим на список глазами и видим что объектов у нас 4: свадьба, автомобиль, недвижимость, образование. (Что, никто не берет кредит на Samsung Galaxy S20 Ultra???) \n",
    "\n",
    ">Дальше чуть-чуть общих рассуждений. Раз человек хочет потратить деньги, то навряд ли он хочет продать автомобиль или недвижимость. Скорее глобальных причин 2: приобретение права собственности (возможно временного - аренда) или улучшение характиристик - ремонт, отделка и т.д. Со свадьбой и образованием еще проще. Свадьбу - сыграть, образование - получить. \n",
    "\n",
    "> Так у нас получается 8 пар:\n",
    "> * приобретение недвижимости\n",
    "* стоительство недвижимости\n",
    "* ремонт недвижимости\n",
    "* аренда недвижимости\n",
    "* приобретение автомобиля\n",
    "* ремонт автомобиля\n",
    "* аренда автомобиля\n",
    "* проведение свадьбы\n",
    "* получение образования\n",
    "\n",
    "> На первом этапе ограничусь этим списком. Потом посмотрю что осталось некатегоризированным и буду разбираться с ними.\n",
    "\n",
    ">> <i>Отдельным пунктом идет поянтие \"сделка\". Но я приму его за аналог \"покупки\"</i>\n",
    "\n",
    "Первым делом определяем объект интереса и глаголы. Для этого готовим словари синонимов, с которыми потом будем сравнивать леммы из данных. Нужно два новых столбца purpose_object_id и purpose_action_id в которых будет храниться значение полученных категорий. Кодировка при помощи степеней двойки нужна для того, чтобы если попадется что то типа \"аренда автомобиля для свадьбы\" мы могли легко увидеть такие задвоения. "
   ]
  },
  {
   "cell_type": "code",
   "execution_count": 102,
   "metadata": {},
   "outputs": [
    {
     "name": "stdout",
     "output_type": "stream",
     "text": [
      "Столбец уже добавлен\n",
      "Столбец уже добавлен\n"
     ]
    }
   ],
   "source": [
    "vehicle = ['автомобиль','машина', 'тачка', 'средство передвижения'] # purpose_object_id = +1\n",
    "estate = ['недвижимость','квартира', 'дом', 'коттедж', 'шале', 'замок', 'землянка','жилье'] # purpose_object_id = +2\n",
    "wedding = ['свадьба', 'брак','брачная церемония','венчание','помолвка'] # purpose_object_id = +4\n",
    "education = ['образование','курсы','университет','институт','MBA', 'колледж'] # purpose_object_id = +8\n",
    "\n",
    "bye = ['купить','приобретать','покупать','покупка','сделка','приобретение'] # purpose_action_id = +1\n",
    "build = ['строить','строительство','возведение','создание']# purpose_action_id = +2\n",
    "rent = ['аренда','арендовать','найм'] # purpose_action_id = +4\n",
    "repair = ['ремонтировать','восстанавливать','ремонт'] # purpose_action_id = +8\n",
    "\n",
    "try:\n",
    "    raw_data.insert(14,'purpose_object_id',int)\n",
    "except:\n",
    "    print ('Столбец уже добавлен')\n",
    "\n",
    "try:\n",
    "    raw_data.insert(15,'purpose_action_id',int)\n",
    "except:\n",
    "    print ('Столбец уже добавлен')\n",
    "    \n",
    "for row in raw_data.itertuples():\n",
    "    object = 0\n",
    "    action = 0\n",
    "    purpose = m.lemmatize(row[14])\n",
    "    if (set(purpose) & set(vehicle)): # просматриваем на совпадение леммов словарю, если есть, то добавляем наш объект\n",
    "        object += 1\n",
    "    if (set(purpose) & set(estate)):\n",
    "        object += 2\n",
    "    if (set(purpose) & set(wedding)):\n",
    "        object += 4\n",
    "    if (set(purpose) & set(education)):\n",
    "        object += 8\n",
    "    \n",
    "    if (set(purpose) & set(bye)): #тоже действие для действий\n",
    "        action += 1\n",
    "    if (set(purpose) & set(build)):\n",
    "        action += 2\n",
    "    if (set(purpose) & set(rent)):\n",
    "        action += 4\n",
    "    if (set(purpose) & set(repair)):\n",
    "        action += 8\n",
    "    \n",
    "    raw_data.loc[row.Index, 'purpose_object_id'] = object #и вносим то что получилось в ДатаФрейм\n",
    "    raw_data.loc[row.Index, 'purpose_action_id'] = action"
   ]
  },
  {
   "cell_type": "markdown",
   "metadata": {},
   "source": [
    ">Проверяем на задвоения"
   ]
  },
  {
   "cell_type": "code",
   "execution_count": 103,
   "metadata": {},
   "outputs": [
    {
     "name": "stdout",
     "output_type": "stream",
     "text": [
      "[2 1 8 4]\n",
      "[1 0 2 8]\n"
     ]
    }
   ],
   "source": [
    "print (raw_data['purpose_object_id'].unique())\n",
    "\n",
    "print (raw_data['purpose_action_id'].unique())"
   ]
  },
  {
   "cell_type": "markdown",
   "metadata": {},
   "source": [
    ">Все в порядке, задвоений нет. Также нет 0 в \"объектах\", а вот нули в \"действиях\" это нормально - для свадеб и образования они не нужны. Следующая проверка именно на это - у машин и недвижимости должны быть \"действия\", у свадеб и образования их НЕ должно быть. "
   ]
  },
  {
   "cell_type": "code",
   "execution_count": 104,
   "metadata": {},
   "outputs": [
    {
     "name": "stdout",
     "output_type": "stream",
     "text": [
      "Операции с автомобилями без действия 1440\n",
      "Операции с недвижимостью без действия 3859\n",
      "Свадьба с \"действием\" 0\n",
      "Образование с \"действием\" 0\n"
     ]
    }
   ],
   "source": [
    "print ('Операции с автомобилями без действия' , raw_data[(raw_data['purpose_object_id']==1) & \n",
    "                                                         (raw_data['purpose_action_id']==0)]['purpose'].count())\n",
    "\n",
    "print ('Операции с недвижимостью без действия' , raw_data[(raw_data['purpose_object_id']==2) & \n",
    "                                                         (raw_data['purpose_action_id']==0)]['purpose'].count())\n",
    "\n",
    "print ('Свадьба с \"действием\"' , raw_data[(raw_data['purpose_object_id']==3) & \n",
    "                                                         (raw_data['purpose_action_id']!=0)]['purpose'].count())\n",
    "\n",
    "print ('Образование с \"действием\"' , raw_data[(raw_data['purpose_object_id']==4) & \n",
    "                                                         (raw_data['purpose_action_id']!=0)]['purpose'].count())"
   ]
  },
  {
   "cell_type": "markdown",
   "metadata": {},
   "source": [
    "> Посмотрим подробнее что там с первыми двумя пунктами"
   ]
  },
  {
   "cell_type": "code",
   "execution_count": 105,
   "metadata": {},
   "outputs": [
    {
     "name": "stdout",
     "output_type": "stream",
     "text": [
      "Операции с автомобилями без действия ['автомобили' 'автомобиль' 'свой автомобиль']\n",
      "Операции с недвижимостью без действия ['операции с жильем' 'недвижимость'\n",
      " 'операции с коммерческой недвижимостью' 'жилье'\n",
      " 'операции со своей недвижимостью' 'операции с недвижимостью']\n"
     ]
    }
   ],
   "source": [
    "print ('Операции с автомобилями без действия' , raw_data[(raw_data['purpose_object_id']==1) & \n",
    "                                                         (raw_data['purpose_action_id']==0)]['purpose'].unique())\n",
    "\n",
    "print ('Операции с недвижимостью без действия' , raw_data[(raw_data['purpose_object_id']==2) & \n",
    "                                                         (raw_data['purpose_action_id']==0)]['purpose'].unique())"
   ]
  },
  {
   "cell_type": "markdown",
   "metadata": {},
   "source": [
    "> Все это видимо \"приобретение\". Думаю можно безболезненно заменить все нули в action на 1"
   ]
  },
  {
   "cell_type": "code",
   "execution_count": 106,
   "metadata": {},
   "outputs": [
    {
     "name": "stdout",
     "output_type": "stream",
     "text": [
      "Операции с автомобилями без действия 0\n",
      "Операции с недвижимостью без действия 0\n"
     ]
    }
   ],
   "source": [
    "raw_data.loc[(raw_data['purpose_object_id']==1) & (raw_data['purpose_action_id']==0),'purpose_action_id'] = 1\n",
    "raw_data.loc[(raw_data['purpose_object_id']==2) & (raw_data['purpose_action_id']==0),'purpose_action_id'] = 1\n",
    "\n",
    "# И снова проверяем\n",
    "\n",
    "print ('Операции с автомобилями без действия' , raw_data[(raw_data['purpose_object_id']==1) & \n",
    "                                                         (raw_data['purpose_action_id']==0)]['purpose'].count())\n",
    "\n",
    "print ('Операции с недвижимостью без действия' , raw_data[(raw_data['purpose_object_id']==2) & \n",
    "                                                         (raw_data['purpose_action_id']==0)]['purpose'].count())"
   ]
  },
  {
   "cell_type": "markdown",
   "metadata": {},
   "source": [
    "### Вывод"
   ]
  },
  {
   "cell_type": "markdown",
   "metadata": {},
   "source": [
    "Неожиданно подготовительный период занял много времени. Но теперь вроде все данные приведены в порядок и можно начинать категоризацию"
   ]
  },
  {
   "cell_type": "markdown",
   "metadata": {},
   "source": [
    "### Категоризация данных"
   ]
  },
  {
   "cell_type": "markdown",
   "metadata": {},
   "source": [
    "#### Справочники"
   ]
  },
  {
   "cell_type": "code",
   "execution_count": 107,
   "metadata": {},
   "outputs": [
    {
     "name": "stdout",
     "output_type": "stream",
     "text": [
      "<class 'pandas.core.frame.DataFrame'>\n",
      "RangeIndex: 21328 entries, 0 to 21327\n",
      "Data columns (total 17 columns):\n",
      "children                21328 non-null int64\n",
      "days_employed           21328 non-null float64\n",
      "days_employed_fixed     21328 non-null int64\n",
      "age_years               21328 non-null int64\n",
      "education               21328 non-null object\n",
      "education_id            21328 non-null int64\n",
      "family_status           21328 non-null object\n",
      "family_status_id        21328 non-null int64\n",
      "gender                  21328 non-null object\n",
      "income_type             21328 non-null object\n",
      "debt                    21328 non-null int64\n",
      "monthly_income          21328 non-null float64\n",
      "monthly_income_fixed    21328 non-null int64\n",
      "purpose                 21328 non-null object\n",
      "purpose_object_id       21328 non-null int64\n",
      "purpose_action_id       21328 non-null int64\n",
      "income_type_id          21328 non-null int64\n",
      "dtypes: float64(2), int64(10), object(5)\n",
      "memory usage: 2.8+ MB\n",
      "None\n"
     ]
    }
   ],
   "source": [
    "print (raw_data.info())"
   ]
  },
  {
   "cell_type": "markdown",
   "metadata": {},
   "source": [
    ">В результате этого действия мы, по идее, должны избавиться от все float и object (кроме purpose)\n",
    "\n",
    "* education - в основной таблице оставляем только id. Т.к. само описание education принимает несколько фиксированных значений, то можно было бы вообще обойтись без справочника, но в учебных целях лучше его сделать\n",
    "* family_status - тоже что и предыдущий пункт. Оставляем в основной таблице family_status_id\n",
    "* income_type - придется создавать новый столбец с id. И так же можно было бы обойтись только id\n",
    "\n",
    ">><i>Кстати, за время работы таблица начала занимать в памяти 3.4+ Мб, а в начале было 2. Не лучшая динамика. Посмотрим насколько объем занимаемой памяти уменьшится после создания справочников\n",
    "    \n",
    "> И да, паралельно со справочниками буду делать чистовую таблицу data. Вместо gendera можно сделать gender_id в котором F будет равно 1, а M - 2 Получим столбец int\n",
    "    \n",
    ">><i>Отдельный вопрос был с purpose'ом. В принципе, можно создать purpose_id(int) оставить в основной таблице только его, а сами purpose вынести в отдельный справочник. Но отношения все равно будут \"один к одному\" в отличие от других справочников. Поэтому с точки зрения организации реляционной базы данных смысла такая операция не имеет</i> "
   ]
  },
  {
   "cell_type": "code",
   "execution_count": 108,
   "metadata": {},
   "outputs": [
    {
     "name": "stdout",
     "output_type": "stream",
     "text": [
      "Справочник \"Образование\"\n",
      "\n",
      "             education  education_id\n",
      "0               высшее             0\n",
      "1              среднее             1\n",
      "2  неоконченное высшее             2\n",
      "3            начальное             3\n",
      "4       ученая степень             4\n",
      "\n",
      "Справочник \"Семейный статус\"\n",
      "\n",
      "           family_status  family_status_id\n",
      "0        женат / замужем                 0\n",
      "1       гражданский брак                 1\n",
      "2         вдовец / вдова                 2\n",
      "3              в разводе                 3\n",
      "4  Не женат / не замужем                 4\n",
      "\n",
      "Столбец уже добавлен\n",
      "Справочник \"Источник дохода\"\n",
      "\n",
      "       income_type  income_type_id\n",
      "0        сотрудник               1\n",
      "1        пенсионер               3\n",
      "2        компаньон               2\n",
      "3      госслужащий               4\n",
      "4  предприниматель               5\n",
      "\n"
     ]
    }
   ],
   "source": [
    "education_dict = raw_data[['education', 'education_id']]\n",
    "education_dict = education_dict.drop_duplicates().reset_index(drop=True)\n",
    "\n",
    "print ('Справочник \"Образование\"')\n",
    "print ()\n",
    "print (education_dict.head())\n",
    "print ()\n",
    "\n",
    "family_status_dict = raw_data[['family_status', 'family_status_id']]\n",
    "family_status_dict = family_status_dict.drop_duplicates().reset_index(drop=True)\n",
    "\n",
    "print ('Справочник \"Семейный статус\"')\n",
    "print ()\n",
    "print (family_status_dict.head())\n",
    "print ()\n",
    "\n",
    "try:\n",
    "    raw_data.insert(16,'income_type_id',int)\n",
    "except:\n",
    "    print ('Столбец уже добавлен')    \n",
    "\n",
    "for row in raw_data.itertuples():\n",
    "    income_type_id = 1 # по умолчанию будет сотрудник\n",
    "    if row[10] == 'компаньон':\n",
    "        income_type_id = 2\n",
    "    if row[10] == 'пенсионер':\n",
    "        income_type_id = 3\n",
    "    if row[10] == 'госслужащий':\n",
    "        income_type_id = 4\n",
    "    if row[10] == 'предприниматель':\n",
    "        income_type_id = 5\n",
    "    if row[10] == 'студент':\n",
    "        income_type_id = 6\n",
    "    if row[10] == 'в декрете':\n",
    "        income_type_id = 7   \n",
    "    raw_data.loc[row.Index, 'income_type_id'] = income_type_id\n",
    "\n",
    "income_type_dict = raw_data[['income_type', 'income_type_id']] # income_type_id создан, можно income_type выносить в стправочник\n",
    "income_type_dict = income_type_dict.drop_duplicates().reset_index(drop=True)\n",
    "\n",
    "\n",
    "print ('Справочник \"Источник дохода\"')\n",
    "print ()\n",
    "print (income_type_dict.head())\n",
    "print ()\n",
    "\n",
    "\n"
   ]
  },
  {
   "cell_type": "code",
   "execution_count": 111,
   "metadata": {},
   "outputs": [
    {
     "name": "stdout",
     "output_type": "stream",
     "text": [
      "<class 'pandas.core.frame.DataFrame'>\n",
      "RangeIndex: 21328 entries, 0 to 21327\n",
      "Data columns (total 12 columns):\n",
      "children                21328 non-null int64\n",
      "days_employed_fixed     21328 non-null int64\n",
      "age_years               21328 non-null int64\n",
      "education_id            21328 non-null int64\n",
      "family_status_id        21328 non-null int64\n",
      "gender                  21328 non-null object\n",
      "income_type_id          21328 non-null int64\n",
      "debt                    21328 non-null int64\n",
      "monthly_income_fixed    21328 non-null int64\n",
      "purpose_object_id       21328 non-null int64\n",
      "purpose_action_id       21328 non-null int64\n",
      "purpose                 21328 non-null object\n",
      "dtypes: int64(10), object(2)\n",
      "memory usage: 2.0+ MB\n",
      "None\n"
     ]
    }
   ],
   "source": [
    "# и создаем чистовую таблицу\n",
    "\n",
    "data = pd.DataFrame\n",
    "\n",
    "data = raw_data[['children','days_employed_fixed','age_years','education_id','family_status_id','gender','income_type_id',\n",
    "                'debt','monthly_income_fixed','purpose_object_id','purpose_action_id','purpose']]\n",
    "\n",
    "#try:                   \n",
    "#    data.insert(6,'gender_id',int) Это была попытка создать gender_id для справочника полов, но это не привело к уменьшению\n",
    "#except:\n",
    "#    print ('Столбец уже добавлен')\n",
    "\n",
    "#count = 0\n",
    "#\n",
    "#for row in data['gender']:\n",
    "#    if row =='F':\n",
    "#        data.loc[count,'gender_id'] = 1\n",
    "#    else:\n",
    "#        data.loc[count,'gender_id'] = 2\n",
    "#    count +=1 \n",
    "\n",
    "#data.drop(['gender'], axis=1, inplace=True)\n",
    "print (data.info())\n",
    "\n",
    "del raw_data # удаляем старый сет"
   ]
  },
  {
   "cell_type": "markdown",
   "metadata": {},
   "source": [
    "### Вывод\n",
    "\n",
    "Проба заменить gender на интеджерный gender_id не оказала влияние на размер датасета, поэтому и незачем лишние движения. \n",
    "\n",
    "После выноса справочников из датасета размер уменьшился до прежних 2.0+ Но до выноса справочников было 3.4. Так что результат хороший. Ну и количество столбцов в датасете стало меньше "
   ]
  },
  {
   "cell_type": "markdown",
   "metadata": {},
   "source": [
    "### Шаг 3. Ответьте на вопросы"
   ]
  },
  {
   "cell_type": "markdown",
   "metadata": {},
   "source": [
    "- Есть ли зависимость между наличием детей и возвратом кредита в срок?\n",
    "\n",
    ">Т.к. нас интересует влияет ли наличие (и количество) детей на просрочки по кредитам, то методика будет такой. Чтобы исключить половой \"диморфизм\" буду делать отдельно по полам. \n",
    "\n",
    "* Основная функция блока получат на вход пол и количество детей\n",
    "* Дальше мы отбираем записи с такими же признаками и наличием просрочки и смотрим возрастные лимиты\n",
    "* Отбираем ВСЕ записи с такими же признаками и с возрастными рамками из предыдущего пункта - same_age\n",
    "* Считаем ratio просрочек для всего набора\n",
    "* Отбираем из same_age тех, у кого количество детей соответствует заданному условию - same_age_with_children\n",
    "* Отбираем тех их них, кто допустил просрочку\n",
    "* И считаем ratio для них\n",
    "* Прогоняем функцию для женщин с 1,2,3,4 и 5 детьми\n",
    "* Повторяем для мужчин.\n",
    "\n",
    ">>Прошу прощения за дублирования описания логики здесь в коде. Делал это для себя, чтобы не запутаться"
   ]
  },
  {
   "cell_type": "code",
   "execution_count": 121,
   "metadata": {},
   "outputs": [
    {
     "name": "stdout",
     "output_type": "stream",
     "text": [
      "#######################################################################################################\n",
      "\n",
      "\n",
      "Мужчины\n",
      "Возрастные рамки: от 20 до 71\n",
      "\n",
      "Всего: 7198\n",
      "их них допустили просрочку всего : 738\n",
      "что составляет 10.3% :\n",
      "\n",
      "Количество детей:  1\n",
      "\n",
      "всего 1716 , допустили просрочку 197 , что составляет 11.5%\n",
      "\n",
      "\n",
      "#######################################################################################################\n",
      "\n",
      "\n",
      "Мужчины\n",
      "Возрастные рамки: от 26 до 53\n",
      "\n",
      "Всего: 5393\n",
      "их них допустили просрочку всего : 564\n",
      "что составляет 10.5% :\n",
      "\n",
      "Количество детей:  2\n",
      "\n",
      "всего 761 , допустили просрочку 60 , что составляет 7.9%\n",
      "\n",
      "\n",
      "#######################################################################################################\n",
      "\n",
      "\n",
      "Мужчины\n",
      "Возрастные рамки: от 27 до 47\n",
      "\n",
      "Всего: 4329\n",
      "их них допустили просрочку всего : 459\n",
      "что составляет 10.6% :\n",
      "\n",
      "Количество детей:  3\n",
      "\n",
      "всего 122 , допустили просрочку 10 , что составляет 8.2%\n",
      "\n",
      "\n",
      "#######################################################################################################\n",
      "\n",
      "\n",
      "Мужчины\n",
      "Возрастные рамки: от 28 до 51\n",
      "\n",
      "Всего: 4741\n",
      "их них допустили просрочку всего : 491\n",
      "что составляет 10.4% :\n",
      "\n",
      "Количество детей:  4\n",
      "\n",
      "всего 13 , допустили просрочку 3 , что составляет 23.1%\n",
      "\n",
      "\n",
      "#######################################################################################################\n",
      "\n",
      "\n",
      "Женщины\n",
      "Возрастные рамки: от 21 до 66\n",
      "\n",
      "Всего: 13580\n",
      "их них допустили просрочку всего : 967\n",
      "что составляет 7.1% :\n",
      "\n",
      "Количество детей:  1\n",
      "\n",
      "всего 3047 , допустили просрочку 243 , что составляет 8.0%\n",
      "\n",
      "\n",
      "#######################################################################################################\n",
      "\n",
      "\n",
      "Женщины\n",
      "Возрастные рамки: от 22 до 59\n",
      "\n",
      "Всего: 12005\n",
      "их них допустили просрочку всего : 894\n",
      "что составляет 7.4% :\n",
      "\n",
      "Количество детей:  2\n",
      "\n",
      "всего 1242 , допустили просрочку 134 , что составляет 10.8%\n",
      "\n",
      "\n",
      "#######################################################################################################\n",
      "\n",
      "\n",
      "Женщины\n",
      "Возрастные рамки: от 27 до 49\n",
      "\n",
      "Всего: 7805\n",
      "их них допустили просрочку всего : 638\n",
      "что составляет 8.2% :\n",
      "\n",
      "Количество детей:  3\n",
      "\n",
      "всего 190 , допустили просрочку 17 , что составляет 8.9%\n",
      "\n",
      "\n",
      "#######################################################################################################\n",
      "\n",
      "\n",
      "Женщины\n",
      "Возрастные рамки: от 33 до 33\n",
      "\n",
      "Всего: 340\n",
      "их них допустили просрочку всего : 37\n",
      "что составляет 10.9% :\n",
      "\n",
      "Количество детей:  4\n",
      "\n",
      "всего 5 , допустили просрочку 1 , что составляет 20.0%\n",
      "\n",
      "\n"
     ]
    }
   ],
   "source": [
    "def get_overdue_ratio(gender,children):\n",
    "    \n",
    "    first_group = data[(data['debt'] == 1) & (data['gender'] == gender) & (data['age_years']>0)\n",
    "                     & (data['children']==children)] #временный сет для определения возрастных рамок\n",
    "    min_age = first_group['age_years'].min()\n",
    "    max_age = first_group['age_years'].max()\n",
    "    \n",
    "    del first_group # удаляем временный сет\n",
    "    \n",
    "    # Отбираем всех людей того же пола и возраста    \n",
    "    same_age = data[(data['gender'] == gender) & (data['age_years']>=min_age) & (data['age_years']<=max_age)]\n",
    "    \n",
    "    # Считаем ratio просрочек для всего набора\n",
    "    same_age_ratio =(same_age[same_age['debt']==1]['children'].count())/(same_age['children'].count())\n",
    "    \n",
    "    #Отбираем из same_age тех, у кого количество детей соответствует заданному условию \n",
    "    same_age_with_children = same_age[same_age['children']==children]\n",
    "    \n",
    "    #Отбираем тех их них, кто допустил просрочку\n",
    "    same_age_with_children_overdue = same_age_with_children[same_age_with_children['debt']==1]\n",
    "    \n",
    "    #Считаем ratio\n",
    "    with_children_ratio = (same_age_with_children_overdue['debt'].count()) / (same_age_with_children['debt'].count())\n",
    "    \n",
    "    \n",
    "    if gender=='F':\n",
    "        gender_text = 'Женщины'\n",
    "    else:\n",
    "        gender_text = 'Мужчины'\n",
    "    print ('#######################################################################################################')\n",
    "    print ()\n",
    "    print ()\n",
    "    print (gender_text)\n",
    "    \n",
    "    print ('Возрастные рамки: от', min_age, 'до', max_age)\n",
    "    print ()\n",
    "    print ('Всего:', same_age['children'].count())\n",
    "    print ('их них допустили просрочку всего :', same_age[same_age['debt']==1]['children'].count())\n",
    "    print ('что составляет {:.1%} :'. format(same_age_ratio))\n",
    "    print()\n",
    "    print ('Количество детей: ', children)\n",
    "    print ()\n",
    "    print ('всего' , same_age_with_children['debt'].count(), ', допустили просрочку'\n",
    "           , same_age_with_children_overdue['debt'].count(), ', что составляет {:.1%}' . format(with_children_ratio))\n",
    "    print ()\n",
    "    print ()\n",
    "    \n",
    "    del same_age #прибираем за собой\n",
    "    del same_age_with_children\n",
    "    del same_age_with_children_overdue\n",
    "\n",
    "(get_overdue_ratio('M', 1 ))\n",
    "(get_overdue_ratio('M', 2 ))\n",
    "(get_overdue_ratio('M', 3 ))\n",
    "(get_overdue_ratio('M', 4 ))\n",
    "#(get_overdue_ratio('M', 5 )) не допускают просрочек! \n",
    "\n",
    "(get_overdue_ratio('F', 1 ))\n",
    "(get_overdue_ratio('F', 2 ))\n",
    "(get_overdue_ratio('F', 3 ))\n",
    "(get_overdue_ratio('F', 4 ))\n",
    "#(get_overdue_ratio('M', 5 )) не допускают просрочек!"
   ]
  },
  {
   "cell_type": "markdown",
   "metadata": {},
   "source": [
    "### Предвывод\n",
    "\n",
    ">На маленьких числах статистику смотреть бесполезно - очень велико влияние каждого единичного случая. Например для мужчин с 1 ребенком, каждый случай просрочки даст отклонение в сотые доли процента, для двух детей - одну десятую, для трех - 0.7, а для 4 уже 7.2% Для женщин ситуация похожая. Так что в финальном сравнении можно ограничиться \"один ребенок\", \"два\" и \"три\"\n",
    "\n",
    ">То что люди с 5 детьми не допукают просрочек это конечно тоже показатель, но т.е. их вообще не много, то их рассматривать не буду\n",
    "\n",
    ">Нужно оформить это как то покрасивей"
   ]
  },
  {
   "cell_type": "code",
   "execution_count": 129,
   "metadata": {},
   "outputs": [
    {
     "name": "stdout",
     "output_type": "stream",
     "text": [
      "     Просрочки с детьми (всего)             \n",
      "Пол                     женщины      мужчины\n",
      "Дети                                        \n",
      "1                     8.0 (7.1)  11.5 (10.3)\n",
      "2                    10.8 (7.4)   7.9 (10.5)\n",
      "3                     8.9 (8.2)   8.2 (10.6)\n"
     ]
    }
   ],
   "source": [
    "def get_overdue_ratio_2(gender,children):    \n",
    "    \n",
    "    first_group = data[(data['debt'] == 1) & (data['gender'] == gender) & (data['age_years']>0)\n",
    "                     & (data['children']==children)] #временный сет для определения возрастных рамок\n",
    "    min_age = first_group['age_years'].min()\n",
    "    max_age = first_group['age_years'].max()\n",
    "    \n",
    "    del first_group # удаляем временный сет\n",
    "    \n",
    "    # Отбираем всех людей того же пола и возраста    \n",
    "    same_age = data[(data['gender'] == gender) & (data['age_years']>=min_age) & (data['age_years']<=max_age)]\n",
    "    \n",
    "    # Считаем ratio просрочек для всего набора\n",
    "    same_age_ratio =(same_age[same_age['debt']==1]['children'].count())/(same_age['children'].count())\n",
    "    \n",
    "    #Отбираем из same_age тех, у кого количество детей соответствует заданному условию \n",
    "    same_age_with_children = same_age[same_age['children']==children]\n",
    "    \n",
    "    #Отбираем тех их них, кто допустил просрочку\n",
    "    same_age_with_children_overdue = same_age_with_children[same_age_with_children['debt']==1]\n",
    "    \n",
    "    #Считаем ratio\n",
    "    with_children_ratio = (same_age_with_children_overdue['debt'].count()) / (same_age_with_children['debt'].count())\n",
    "    \n",
    "    del same_age #прибираем за собой\n",
    "    del same_age_with_children\n",
    "    del same_age_with_children_overdue\n",
    "    \n",
    "    #Приводим вывод в красивый вид\n",
    "    \n",
    "    same_age_ratio = round(same_age_ratio*100,1)\n",
    "    with_children_ratio = round(with_children_ratio*100,1)\n",
    "    \n",
    "    tstr=str(with_children_ratio) + ' (' + str(same_age_ratio) + ')'\n",
    "    \n",
    "    return (tstr)\n",
    "\n",
    "\n",
    "date_children_overdue=pd.DataFrame(\n",
    "    [\n",
    "        ['мужчины',1,get_overdue_ratio_2('M', 1 )],\n",
    "        ['мужчины',2,get_overdue_ratio_2('M', 2 )],\n",
    "        ['мужчины',3,get_overdue_ratio_2('M', 3 )],\n",
    "        ['женщины',1,get_overdue_ratio_2('F', 1 )],\n",
    "        ['женщины',2,get_overdue_ratio_2('F', 2 )],\n",
    "        ['женщины',3,get_overdue_ratio_2('F', 3 )]\n",
    "        \n",
    "    ],\n",
    "    columns=['Пол','Дети','Просрочки с детьми (всего)'])\n",
    "\n",
    "print (date_children_overdue.pivot(index='Дети', columns='Пол', values=['Просрочки с детьми (всего)']))\n"
   ]
  },
  {
   "cell_type": "markdown",
   "metadata": {},
   "source": [
    "### Вывод\n",
    "\n",
    ">В целом влияние есть\n",
    "\n",
    ">Мужчины с детьми больше одного реже допускают просрочки, а женщины чаще. Видимо влияет то, что женщина может быть матерью-одиночкой, а мужчина с детьми это, скорее всего, полная семья. 2 ребенка это какой то особый вариант - при таком количестве детей мужчины максимально дисциплинированы, а женщины наоборот. Идеальный заемщик - мужчина с двумя детьми. Худший - мужчина с 1 ребенком. \n",
    "\n",
    ">Женщины более дисциплинированные плательщики."
   ]
  },
  {
   "cell_type": "markdown",
   "metadata": {},
   "source": [
    "- Есть ли зависимость между семейным положением и возвратом кредита в срок?\n",
    "\n",
    ">Здесь пойдем другим путем - будем сравнивать процент просрочек людей в отношениях, но не со всеми того же пола и возраста, а с теми кто в отношениях не состоит. Объяснение подхода: мне интересно посмотреть какой метод окажется более верный по результатам проверки )  \n",
    "\n",
    "* Отбираем группу с заданными характеристиками (пол и семейный статус) и с просрочкой. \n",
    "* Смотрим их возраст от и до *\n",
    "* Отбираем всех того же пола этого возраста \n",
    "* Выборку делим на \"замужем\" family_status_id = 0 (или 1 для гражданского брака) и всех остальных. \n",
    "* В каждой подвыборке считаем процент невозвратов "
   ]
  },
  {
   "cell_type": "code",
   "execution_count": 131,
   "metadata": {},
   "outputs": [
    {
     "name": "stdout",
     "output_type": "stream",
     "text": [
      "                 Просрочек в отношениях (без отношений)            \n",
      "Пол                                             женщины     мужчины\n",
      "Отношения                                                          \n",
      "брак                                          6.8 (7.3)  8.8 (12.7)\n",
      "гражданский брак                              8.4 (6.8)  11.8 (9.9)\n"
     ]
    }
   ],
   "source": [
    "def get_overdue_ratio_rel(gender,family_status_id):\n",
    "    \n",
    "    first_group = data[(data['debt'] == 1) & (data['gender'] == gender) & (data['age_years']>0)\n",
    "                     & (data['family_status_id']==family_status_id)]\n",
    "    min_age = first_group['age_years'].min()\n",
    "    max_age = first_group['age_years'].max()\n",
    "    \n",
    "    del first_group\n",
    "    \n",
    "    same_age = data[(data['gender'] == gender) & (data['age_years']>=min_age) & (data['age_years']<=max_age)]\n",
    "    \n",
    "    same_age_rel = same_age[same_age['family_status_id']==family_status_id]\n",
    "    same_age_wo_rel=same_age[same_age['family_status_id']!=family_status_id]\n",
    "    \n",
    "    same_age_rel_overdue = same_age_rel[same_age_rel['debt']==1]\n",
    "    same_age_wo_rel_overdue = same_age_wo_rel[same_age_wo_rel['debt']==1]\n",
    "    \n",
    "    rel_ratio = (same_age_rel_overdue['debt'].count()) / (same_age_rel['debt'].count())\n",
    "    wo_rel_ratio = (same_age_wo_rel_overdue['debt'].count()) / (same_age_wo_rel['debt'].count())\n",
    "    \n",
    "    #Уборка!\n",
    "    \n",
    "    del same_age\n",
    "    del same_age_rel\n",
    "    del same_age_wo_rel\n",
    "    del same_age_rel_overdue\n",
    "    del same_age_wo_rel_overdue\n",
    "    \n",
    "    #Делаем красиво\n",
    "    \n",
    "    rel_ratio = round(rel_ratio*100,1)\n",
    "    wo_rel_ratio = round(wo_rel_ratio*100,1)\n",
    "    \n",
    "    tstr=str(rel_ratio) + ' (' + str(wo_rel_ratio) + ')'\n",
    "    \n",
    "    return (tstr)\n",
    "\n",
    "date_rel_overdue=pd.DataFrame(\n",
    "    [\n",
    "        ['мужчины','брак',get_overdue_ratio_rel('M', 0 )],\n",
    "        ['мужчины','гражданский брак',get_overdue_ratio_rel('M', 1 )],\n",
    "        ['женщины','брак',get_overdue_ratio_rel('F', 0 )],\n",
    "        ['женщины','гражданский брак',get_overdue_ratio_rel('F', 1 )]\n",
    "        \n",
    "    ],\n",
    "    columns=['Пол','Отношения','Просрочек в отношениях (без отношений)'])\n",
    "\n",
    "print (date_rel_overdue.pivot(index='Отношения', columns='Пол', values=['Просрочек в отношениях (без отношений)']))"
   ]
  },
  {
   "cell_type": "markdown",
   "metadata": {},
   "source": [
    "### Вывод\n",
    "\n",
    ">В браке все реже допускают просрочки. В гражданском браке наоборот. Это интересно! И опять женщины меньше просрочек допускают в принципе. Идеальный заемщик - женщина в браке. Худший - мужчина в гражданском браке"
   ]
  },
  {
   "cell_type": "markdown",
   "metadata": {},
   "source": [
    "- Есть ли зависимость между уровнем дохода и возвратом кредита в срок?\n",
    "\n",
    "> Учитывая результаты двух предыдущих пунктов, опять хочется разделить по полам\n",
    "\n",
    "* Делаем выборку пол + величина дохода с каким то шагом\n",
    "* Считаем процент просрочек в каждой выборке\n",
    "* Смотрим меняется ли этот процент по диапазонам"
   ]
  },
  {
   "cell_type": "code",
   "execution_count": 132,
   "metadata": {},
   "outputs": [
    {
     "name": "stdout",
     "output_type": "stream",
     "text": [
      "Минимальный доход у женщин: 1722\n",
      "Максимальный доход у женщин: 142918\n",
      "Минимальный доход у мужчин: 1767\n",
      "Максимальный доход у мужчин: 188800\n"
     ]
    }
   ],
   "source": [
    "print ('Минимальный доход у женщин:', data[(data['gender']=='F') & (data['monthly_income_fixed']>0)]\n",
    "                                           ['monthly_income_fixed'].min())\n",
    "print ('Максимальный доход у женщин:', data[data['gender']=='F']\n",
    "                                           ['monthly_income_fixed'].max())\n",
    "\n",
    "print ('Минимальный доход у мужчин:', data[(data['gender']=='M') & (data['monthly_income_fixed']>0)]\n",
    "                                           ['monthly_income_fixed'].min())\n",
    "print ('Максимальный доход у мужчин:', data[data['gender']=='M']\n",
    "                                           ['monthly_income_fixed'].max())"
   ]
  },
  {
   "cell_type": "markdown",
   "metadata": {},
   "source": [
    ">Разделим доходы на 10 категорий Шаг определим взяв разницу между максимальной и минимальной и поделив на 10 = (188 800 - 1 722) / 10 = 18 708 .Помним что мы оперируем целыми числами! \n",
    "\n",
    "* I категория 0 - 20 430\n",
    "* II - 20 431 - 39 138\n",
    "* III - 39 139  - 57 846\n",
    "* IV  - 57 847 - 76 555\n",
    "* V - 76 556 - 95 264\n",
    "* VI - 95 265 - 113 973\n",
    "* VII - 113 974 - 132 682\n",
    "* VIII - 132 683 - 151 391\n",
    "* IX - 151 392 - 170 100\n",
    "* X - 170 101+ \n",
    "\n",
    ">Дальше план:\n",
    "\n",
    "* <s>сделать 20 датасетов по диапазонам дохода и полам</s> Одну функцию, принимающую номер диапазона и пол, и возращающую  отношение debt = 1 к общему населению диапазона\n",
    "* Смотрим что получилось"
   ]
  },
  {
   "cell_type": "code",
   "execution_count": 141,
   "metadata": {},
   "outputs": [
    {
     "name": "stdout",
     "output_type": "stream",
     "text": [
      "Случаи задержек платежей, женщины, категория I                      7.1 %            893/12563\n",
      "Случаи задержек платежей, женщины, категория II                     6.3 %            90/1431\n",
      "Случаи задержек платежей, женщины, категория III                    6.2 %            5/80\n",
      "Случаи задержек платежей, женщины, категория IV                     14.3 %            1/7\n",
      "Случаи задержек платежей, женщины, категория V                      ('Просрочек нет', '0/6')\n",
      "Случаи задержек платежей, женщины, категория VI                     ('Просрочек нет', '0/3')\n",
      "Случаи задержек платежей, женщины, категория VII                    ('Просрочек нет', '0/1')\n",
      "Случаи задержек платежей, женщины, категория VIII                   ('Просрочек нет', '0/0')\n",
      "Случаи задержек платежей, женщины, категория IX                     ('Просрочек нет', '0/0')\n",
      "Случаи задержек платежей, женщины, категория X                      ('Просрочек нет', '0/0')\n",
      "Случаи задержек платежей, мужчины, категория I                      10.9 %            636/5827\n",
      "Случаи задержек платежей, мужчины, категория II                     7.7 %            98/1270\n",
      "Случаи задержек платежей, мужчины, категория III                    4.6 %            5/108\n",
      "Случаи задержек платежей, мужчины, категория IV                     6.2 %            1/16\n",
      "Случаи задержек платежей, мужчины, категория V                      12.5 %            1/8\n",
      "Случаи задержек платежей, мужчины, категория VI                     ('Просрочек нет', '0/2')\n",
      "Случаи задержек платежей, мужчины, категория VII                    ('Просрочек нет', '0/3')\n",
      "Случаи задержек платежей, мужчины, категория VIII                   ('Просрочек нет', '0/1')\n",
      "Случаи задержек платежей, мужчины, категория IX                     100.0 %            1/1\n",
      "Случаи задержек платежей, мужчины, категория X                      ('Просрочек нет', '0/1')\n"
     ]
    }
   ],
   "source": [
    "def income_overdue(cat, gender):\n",
    "    step = 20430\n",
    "    min_income = step * (cat -1 )\n",
    "    max_income = step * cat\n",
    "        \n",
    "    income_overdue_data = data[(data['gender'] == gender) & (data['monthly_income_fixed'] >= min_income)\n",
    "                     & (data['monthly_income_fixed'] < max_income)] # Отбираем нужный пол внутри диапазона зарпал\n",
    "                               \n",
    "    total_population = income_overdue_data.shape[0] # размер всей выборки\n",
    "    overdue_population = income_overdue_data['debt'].sum() # сколько с просрочкой\n",
    "    \n",
    "    del income_overdue_data\n",
    "    \n",
    "    return_string_end = str(overdue_population) + '/' + str(total_population) # вставка чтобы было видно соотношение\n",
    "    \n",
    "    # после первого прогона повылазила куча NaNов в резульататх, поэтому вставил проверку на 0\n",
    "    if overdue_population==0: \n",
    "        return ('Просрочек нет', return_string_end)  \n",
    "    \n",
    "    return_string = str(round(100*overdue_population/total_population,1)) + ' %            ' + return_string_end\n",
    "    \n",
    "    return (return_string)\n",
    "\n",
    "print ('Случаи задержек платежей, женщины, категория I                     ' , income_overdue(1,'F'))\n",
    "print ('Случаи задержек платежей, женщины, категория II                    ' , income_overdue(2,'F'))\n",
    "print ('Случаи задержек платежей, женщины, категория III                   ' , income_overdue(3,'F'))\n",
    "print ('Случаи задержек платежей, женщины, категория IV                    ' , income_overdue(4,'F'))\n",
    "print ('Случаи задержек платежей, женщины, категория V                     ' , income_overdue(5,'F'))\n",
    "print ('Случаи задержек платежей, женщины, категория VI                    ' , income_overdue(6,'F'))\n",
    "print ('Случаи задержек платежей, женщины, категория VII                   ' , income_overdue(7,'F'))\n",
    "print ('Случаи задержек платежей, женщины, категория VIII                  ' , income_overdue(8,'F'))\n",
    "print ('Случаи задержек платежей, женщины, категория IX                    ' , income_overdue(9,'F'))\n",
    "print ('Случаи задержек платежей, женщины, категория X                     ' , income_overdue(10,'F'))\n",
    "\n",
    "print ('Случаи задержек платежей, мужчины, категория I                     ' , income_overdue(1,'M'))\n",
    "print ('Случаи задержек платежей, мужчины, категория II                    ' , income_overdue(2,'M'))\n",
    "print ('Случаи задержек платежей, мужчины, категория III                   ' , income_overdue(3,'M'))\n",
    "print ('Случаи задержек платежей, мужчины, категория IV                    ' , income_overdue(4,'M'))\n",
    "print ('Случаи задержек платежей, мужчины, категория V                     ' , income_overdue(5,'M'))\n",
    "print ('Случаи задержек платежей, мужчины, категория VI                    ' , income_overdue(6,'M'))\n",
    "print ('Случаи задержек платежей, мужчины, категория VII                   ' , income_overdue(7,'M'))\n",
    "print ('Случаи задержек платежей, мужчины, категория VIII                  ' , income_overdue(8,'M'))\n",
    "print ('Случаи задержек платежей, мужчины, категория IX                    ' , income_overdue(9,'M'))\n",
    "print ('Случаи задержек платежей, мужчины, категория X                     ' , income_overdue(10,'M'))\n"
   ]
  },
  {
   "cell_type": "markdown",
   "metadata": {},
   "source": [
    "### Предвывод\n",
    "\n",
    "> Шаг 1. Какие то более менее достоверные данные есть только для категорий I и II. III под вопросом. Смотрим верхнюю границу категории III - грубо 58000. Переделываем все заново, но теперь в пределах диапазона от 0 до 58К\n",
    "\n",
    "> Шаг 2 После первого шага снова выплыли диапазоны с маленькой достоверностью. Уменьшаем исследуемый диапазон до 35 000 "
   ]
  },
  {
   "cell_type": "code",
   "execution_count": 140,
   "metadata": {},
   "outputs": [
    {
     "name": "stdout",
     "output_type": "stream",
     "text": [
      "Случаи задержек платежей, женщины, категория I                      6.9 %            107/1549\n",
      "Случаи задержек платежей, женщины, категория II                     6.8 %            142/2077\n",
      "Случаи задержек платежей, женщины, категория III                    7.6 %            264/3477\n",
      "Случаи задержек платежей, женщины, категория IV                     7.4 %            215/2889\n",
      "Случаи задержек платежей, женщины, категория V                      6.7 %            115/1721\n",
      "Случаи задержек платежей, женщины, категория VI                     5.9 %            56/943\n",
      "Случаи задержек платежей, женщины, категория VII                    5.6 %            36/640\n",
      "Случаи задержек платежей, женщины, категория VIII                   8.0 %            24/300\n",
      "Случаи задержек платежей, женщины, категория IX                     8.3 %            15/181\n",
      "Случаи задержек платежей, женщины, категория X                      3.4 %            4/118\n",
      "Случаи задержек платежей, мужчины, категория I                      10.6 %            74/697\n",
      "Случаи задержек платежей, мужчины, категория II                     11.6 %            52/450\n",
      "Случаи задержек платежей, мужчины, категория III                    11.5 %            145/1266\n",
      "Случаи задержек платежей, мужчины, категория IV                     11.3 %            175/1549\n",
      "Случаи задержек платежей, мужчины, категория V                      11.0 %            129/1178\n",
      "Случаи задержек платежей, мужчины, категория VI                     8.4 %            67/793\n",
      "Случаи задержек платежей, мужчины, категория VII                    7.7 %            41/532\n",
      "Случаи задержек платежей, мужчины, категория VIII                   7.3 %            18/248\n",
      "Случаи задержек платежей, мужчины, категория IX                     10.1 %            19/188\n",
      "Случаи задержек платежей, мужчины, категория X                      9.3 %            9/97\n"
     ]
    }
   ],
   "source": [
    "def income_overdue_2(cat, gender):\n",
    "    step = 3500\n",
    "    min_income = step * (cat -1 )\n",
    "    max_income = step * cat\n",
    "        \n",
    "    income_overdue_data = data[(data['gender'] == gender) & (data['monthly_income_fixed'] >= min_income)\n",
    "                     & (data['monthly_income_fixed'] < max_income)] # Отбираем нужный пол внутри диапазона зарпал\n",
    "                               \n",
    "    total_population = income_overdue_data.shape[0] # размер всей выборки\n",
    "    overdue_population = income_overdue_data['debt'].sum() # сколько с просрочкой\n",
    "    \n",
    "    del income_overdue_data\n",
    "    \n",
    "    return_string_end = str(overdue_population) + '/' + str(total_population) # вставка чтобы было видно соотношение\n",
    "    \n",
    "    # после первого прогона повылазила куча NaNов в резульататх, поэтому вставил проверку на 0\n",
    "    if overdue_population==0: \n",
    "        return ('Просрочек нет', return_string_end)  \n",
    "    \n",
    "    return_string = str(round(100*overdue_population/total_population,1)) + ' %            ' + return_string_end\n",
    "    \n",
    "    return (return_string)\n",
    "\n",
    "print ('Случаи задержек платежей, женщины, категория I                     ' , income_overdue_2(1,'F'))\n",
    "print ('Случаи задержек платежей, женщины, категория II                    ' , income_overdue_2(2,'F'))\n",
    "print ('Случаи задержек платежей, женщины, категория III                   ' , income_overdue_2(3,'F'))\n",
    "print ('Случаи задержек платежей, женщины, категория IV                    ' , income_overdue_2(4,'F'))\n",
    "print ('Случаи задержек платежей, женщины, категория V                     ' , income_overdue_2(5,'F'))\n",
    "print ('Случаи задержек платежей, женщины, категория VI                    ' , income_overdue_2(6,'F'))\n",
    "print ('Случаи задержек платежей, женщины, категория VII                   ' , income_overdue_2(7,'F'))\n",
    "print ('Случаи задержек платежей, женщины, категория VIII                  ' , income_overdue_2(8,'F'))\n",
    "print ('Случаи задержек платежей, женщины, категория IX                    ' , income_overdue_2(9,'F'))\n",
    "print ('Случаи задержек платежей, женщины, категория X                     ' , income_overdue_2(10,'F'))\n",
    "\n",
    "print ('Случаи задержек платежей, мужчины, категория I                     ' , income_overdue_2(1,'M'))\n",
    "print ('Случаи задержек платежей, мужчины, категория II                    ' , income_overdue_2(2,'M'))\n",
    "print ('Случаи задержек платежей, мужчины, категория III                   ' , income_overdue_2(3,'M'))\n",
    "print ('Случаи задержек платежей, мужчины, категория IV                    ' , income_overdue_2(4,'M'))\n",
    "print ('Случаи задержек платежей, мужчины, категория V                     ' , income_overdue_2(5,'M'))\n",
    "print ('Случаи задержек платежей, мужчины, категория VI                    ' , income_overdue_2(6,'M'))\n",
    "print ('Случаи задержек платежей, мужчины, категория VII                   ' , income_overdue_2(7,'M'))\n",
    "print ('Случаи задержек платежей, мужчины, категория VIII                  ' , income_overdue_2(8,'M'))\n",
    "print ('Случаи задержек платежей, мужчины, категория IX                    ' , income_overdue_2(9,'M'))\n",
    "print ('Случаи задержек платежей, мужчины, категория X                     ' , income_overdue_2(10,'M'))"
   ]
  },
  {
   "cell_type": "markdown",
   "metadata": {},
   "source": [
    "### Вывод\n",
    "\n",
    ">Единственная четко выделяемая зависимость - у мужчин с низким доходом дисциплина самая низкая. Связано, скорее всего, с характером поведения молодых (мало зарабатывающих) мужчин. Когда важно \"держать марку любой ценой\" покупая то, что не по карману. А денег на возврат не всегда хватает. "
   ]
  },
  {
   "cell_type": "markdown",
   "metadata": {},
   "source": [
    "- Как разные цели кредита влияют на его возврат в срок?\n",
    "\n",
    ">Алгорит:\n",
    "\n",
    "* Выбираем всех заемщиков женского пола -> Смотрим количество просрочек -> Считаем коеэффициен f_overdue_ratio\n",
    "* Выбираем женщин с конкретной целью (автомобиль) -> Смотрим количество просрочек -> Считаем коеэффициен f_overdue_ratio_1\n",
    "* Повторяем для все целей. Для недвижимости будут 2_1 - покупка, 2_2 - строительство, 2_8 - ремонт \n",
    "* Все тоже самое для мужчин\n",
    "\n",
    ">>Аренды у нас нет вообще, поэтому не рассматриваем"
   ]
  },
  {
   "cell_type": "code",
   "execution_count": 99,
   "metadata": {},
   "outputs": [
    {
     "name": "stdout",
     "output_type": "stream",
     "text": [
      "\n",
      "################ ОБЩИЕ ДАННЫЕ ###################\n",
      "\n",
      "Процент просрочек у женщин: 7.0%\n",
      "Процент просрочек у мужчин: 10.3%\n",
      "\n",
      "\n",
      "############# ПОКУПКА АВТОМОБИЛЯ ##############\n",
      "\n",
      "Процент просрочек у женщин: 8.2%\n",
      "Процент просрочек у мужчин: 11.7%\n",
      "\n",
      "############# ПОКУПКА НЕДВИЖИМОСТИ ##############\n",
      "\n",
      "Процент просрочек у женщин: 6.4%\n",
      "Процент просрочек у мужчин: 8.9%\n",
      "\n",
      "############# ПОCТРОЙКА НЕДВИЖИМОСТИ ##############\n",
      "\n",
      "Процент просрочек у женщин: 6.0%\n",
      "Процент просрочек у мужчин: 10.9%\n",
      "\n",
      "############# РЕМОНТ НЕДВИЖИМОСТИ ##############\n",
      "\n",
      "Процент просрочек у женщин: 5.9%\n",
      "Процент просрочек у мужчин: 5.6%\n",
      "\n",
      "############# СВАДЬБА ##############\n",
      "\n",
      "Процент просрочек у женщин: 6.9%\n",
      "Процент просрочек у мужчин: 10.0%\n",
      "\n",
      "############# ОБРАЗОВАНИЕ ##############\n",
      "\n",
      "Процент просрочек у женщин: 7.8%\n",
      "Процент просрочек у мужчин: 12.2%\n",
      "\n"
     ]
    }
   ],
   "source": [
    "f_data = data[data['gender'] == 'F']\n",
    "m_data = data[data['gender'] == 'M']\n",
    "\n",
    "f_overdue_ratio = f_data[f_data['debt']==1]['debt'].count() / f_data.shape[0] \n",
    "m_overdue_ratio = m_data[m_data['debt']==1]['debt'].count() / m_data.shape[0] \n",
    "\n",
    "f_data_1_1 = f_data[(f_data['purpose_object_id']==1) & (f_data['purpose_action_id']==1)]\n",
    "m_data_1_1 = m_data[(m_data['purpose_object_id']==1) & (m_data['purpose_action_id']==1)]\n",
    "\n",
    "f_overdue_ratio_1_1 = f_data_1_1[f_data_1_1['debt']==1]['debt'].count() / f_data_1_1.shape[0] \n",
    "m_overdue_ratio_1_1 = m_data_1_1[m_data_1_1['debt']==1]['debt'].count() / m_data_1_1.shape[0] \n",
    "\n",
    "del f_data_1_1 # подчищаем отработанные датафреймы\n",
    "del m_data_1_1 # подчищаем отработанные датафреймы\n",
    "\n",
    "f_data_2_1 = f_data[(f_data['purpose_object_id']==2) & (f_data['purpose_action_id']==1)]\n",
    "m_data_2_1 = m_data[(m_data['purpose_object_id']==2) & (m_data['purpose_action_id']==1)]\n",
    "\n",
    "f_overdue_ratio_2_1 = f_data_2_1[f_data_2_1['debt']==1]['debt'].count() / f_data_2_1.shape[0] \n",
    "m_overdue_ratio_2_1 = m_data_2_1[m_data_2_1['debt']==1]['debt'].count() / m_data_2_1.shape[0] \n",
    "\n",
    "del f_data_2_1 # подчищаем отработанные датафреймы\n",
    "del m_data_2_1 # подчищаем отработанные датафреймы\n",
    "\n",
    "f_data_2_2 = f_data[(f_data['purpose_object_id']==2) & (f_data['purpose_action_id']==2)]\n",
    "m_data_2_2 = m_data[(m_data['purpose_object_id']==2) & (m_data['purpose_action_id']==2)]\n",
    "\n",
    "f_overdue_ratio_2_2 = f_data_2_2[f_data_2_2['debt']==1]['debt'].count() / f_data_2_2.shape[0] \n",
    "m_overdue_ratio_2_2 = m_data_2_2[m_data_2_2['debt']==1]['debt'].count() / m_data_2_2.shape[0] \n",
    "\n",
    "del f_data_2_2 # подчищаем отработанные датафреймы\n",
    "del m_data_2_2 # подчищаем отработанные датафреймы\n",
    "\n",
    "f_data_2_8 = f_data[(f_data['purpose_object_id']==2) & (f_data['purpose_action_id']==8)]\n",
    "m_data_2_8 = m_data[(m_data['purpose_object_id']==2) & (m_data['purpose_action_id']==8)]\n",
    "\n",
    "f_overdue_ratio_2_8 = f_data_2_8[f_data_2_8['debt']==1]['debt'].count() / f_data_2_8.shape[0] \n",
    "m_overdue_ratio_2_8 = m_data_2_8[m_data_2_8['debt']==1]['debt'].count() / m_data_2_8.shape[0] \n",
    "\n",
    "del f_data_2_8 # подчищаем отработанные датафреймы\n",
    "del m_data_2_8 # подчищаем отработанные датафреймы\n",
    "\n",
    "f_data_4 = f_data[(f_data['purpose_object_id']==4)]\n",
    "m_data_4 = m_data[(m_data['purpose_object_id']==4)]\n",
    "\n",
    "f_overdue_ratio_4 = f_data_4[f_data_4['debt']==1]['debt'].count() / f_data_4.shape[0] \n",
    "m_overdue_ratio_4 = m_data_4[m_data_4['debt']==1]['debt'].count() / m_data_4.shape[0] \n",
    "\n",
    "del f_data_4 # подчищаем отработанные датафреймы\n",
    "del m_data_4 # подчищаем отработанные датафреймы\n",
    "\n",
    "f_data_8 = f_data[(f_data['purpose_object_id']==8)]\n",
    "m_data_8 = m_data[(m_data['purpose_object_id']==8)]\n",
    "\n",
    "f_overdue_ratio_8 = f_data_8[f_data_8['debt']==1]['debt'].count() / f_data_8.shape[0] \n",
    "m_overdue_ratio_8 = m_data_8[m_data_8['debt']==1]['debt'].count() / m_data_8.shape[0] \n",
    "\n",
    "del f_data_8 # подчищаем отработанные датафреймы\n",
    "del m_data_8 # подчищаем отработанные датафреймы\n",
    "                  \n",
    "del f_data # подчищаем отработанные датафреймы\n",
    "del m_data # подчищаем отработанные датафреймы\n",
    "\n",
    "print()\n",
    "print('################ ОБЩИЕ ДАННЫЕ ###################')\n",
    "print()\n",
    "print ('Процент просрочек у женщин: {:.1%}' . format(f_overdue_ratio))\n",
    "print ('Процент просрочек у мужчин: {:.1%}' . format(m_overdue_ratio))\n",
    "print()\n",
    "print()\n",
    "print('############# ПОКУПКА АВТОМОБИЛЯ ##############')\n",
    "print()\n",
    "print ('Процент просрочек у женщин: {:.1%}' . format(f_overdue_ratio_1_1))\n",
    "print ('Процент просрочек у мужчин: {:.1%}' . format(m_overdue_ratio_1_1))\n",
    "print()\n",
    "print('############# ПОКУПКА НЕДВИЖИМОСТИ ##############')\n",
    "print()\n",
    "print ('Процент просрочек у женщин: {:.1%}' . format(f_overdue_ratio_2_1))\n",
    "print ('Процент просрочек у мужчин: {:.1%}' . format(m_overdue_ratio_2_1))\n",
    "print()\n",
    "print('############# ПОCТРОЙКА НЕДВИЖИМОСТИ ##############')\n",
    "print()\n",
    "print ('Процент просрочек у женщин: {:.1%}' . format(f_overdue_ratio_2_2))\n",
    "print ('Процент просрочек у мужчин: {:.1%}' . format(m_overdue_ratio_2_2))\n",
    "print()\n",
    "print('############# РЕМОНТ НЕДВИЖИМОСТИ ##############')\n",
    "print()\n",
    "print ('Процент просрочек у женщин: {:.1%}' . format(f_overdue_ratio_2_8))\n",
    "print ('Процент просрочек у мужчин: {:.1%}' . format(m_overdue_ratio_2_8))\n",
    "print()\n",
    "print('############# СВАДЬБА ##############')\n",
    "print()\n",
    "print ('Процент просрочек у женщин: {:.1%}' . format(f_overdue_ratio_4))\n",
    "print ('Процент просрочек у мужчин: {:.1%}' . format(m_overdue_ratio_4))\n",
    "print()\n",
    "print('############# ОБРАЗОВАНИЕ ##############')\n",
    "print()\n",
    "print ('Процент просрочек у женщин: {:.1%}' . format(f_overdue_ratio_8))\n",
    "print ('Процент просрочек у мужчин: {:.1%}' . format(m_overdue_ratio_8))\n",
    "print()"
   ]
  },
  {
   "cell_type": "markdown",
   "metadata": {},
   "source": [
    "### Вывод\n",
    "\n",
    ">И опять женщины дисциплинированней мужчин! Одно исключение - ремонт недвижимости. Но я думаю что это из разряда погрешности: данная причина кредитования наименнее популярна и там велико воздействие случайных выбросов.  \n",
    "\n",
    "> Что касается различий по целям, то я бы не сказал что они какие то значимые. "
   ]
  },
  {
   "cell_type": "markdown",
   "metadata": {},
   "source": [
    "### Шаг 4. Общий вывод"
   ]
  },
  {
   "cell_type": "markdown",
   "metadata": {},
   "source": [
    "* Женщины дисциплиннированей мужчин!\n",
    "* Данные нужно лучше готовит! ))\n",
    "\n",
    "Пожелания по ходу проекта:\n",
    "\n",
    "\t1. При выгрузке данных переименовать столбец dob_years в age_years и total_income в monthly_income. Так больше соответствует сути\n",
    "\t2. days_employed - в выгрузке присутствуют отрицательные данные (невозможно) и числа с плавающей точкой (должны быть целые)\n",
    "\t3. total_income  - в выгрузке присутствуют числа с плавающей точкой (возможно, но для наших целей достаточно точности в рублях) Лучше переделать на int\n",
    "\t4. days_employed - в выгрузке сильно напутано с данными - отрицательные значения стажа, чудовищные положительные числа (возможно лишнее умножение на 30), нулевые стажи - в доработку! \n",
    "\t5. Столбец children - 76 записей с 20 детьми и 47 записей с отрицательным числом. Итого 123 записи. Обратить внимание!\n",
    "\t6. В выгрузке у 100 человек возраст 0\n",
    "\t7. В столбце education путаница с регистрами\n",
    "\t8. В столбе monthly_income (тот, который до переименования был total_income) указаны странные данные. Во-первых они с кучей (9 - 10) знаков после запятой. Во вторых по размеру они скорее соответствуют годовым доходам. Может total в старом названии столбца и означал \"годовой\"? Но в описании \"ежемесячный доход\"\n",
    "    9. Цели кредита должны выбираться из списка фиксированных значений, чтобы не было путаницы типа \"ремонт жилью\"!"
   ]
  }
 ],
 "metadata": {
  "kernelspec": {
   "display_name": "Python 3",
   "language": "python",
   "name": "python3"
  },
  "language_info": {
   "codemirror_mode": {
    "name": "ipython",
    "version": 3
   },
   "file_extension": ".py",
   "mimetype": "text/x-python",
   "name": "python",
   "nbconvert_exporter": "python",
   "pygments_lexer": "ipython3",
   "version": "3.8.3"
  }
 },
 "nbformat": 4,
 "nbformat_minor": 4
}
